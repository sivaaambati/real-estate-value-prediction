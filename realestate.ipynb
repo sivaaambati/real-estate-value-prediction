{
 "cells": [
  {
   "cell_type": "code",
   "execution_count": 76,
   "metadata": {},
   "outputs": [],
   "source": [
    "import pandas as pd\n",
    "import numpy as np\n",
    "import matplotlib.pyplot as plt\n",
    "import seaborn as sns\n",
    "from sklearn.impute import SimpleImputer\n",
    "from sklearn.model_selection import train_test_split\n",
    "from sklearn.preprocessing import OneHotEncoder as OHE\n",
    "from sklearn.preprocessing import LabelEncoder as LE\n",
    "from sklearn.compose import ColumnTransformer\n",
    "from sklearn.preprocessing import StandardScaler\n",
    "from sklearn import linear_model\n",
    "from sklearn.metrics import mean_squared_error\n",
    "from sklearn.tree import export_graphviz,DecisionTreeRegressor\n",
    "from xgboost import XGBRegressor\n",
    "from datetime import datetime"
   ]
  },
  {
   "cell_type": "code",
   "execution_count": 2,
   "metadata": {},
   "outputs": [],
   "source": [
    "df=pd.read_excel('Train.xlsx',header=0,sep=',')"
   ]
  },
  {
   "cell_type": "code",
   "execution_count": 3,
   "metadata": {},
   "outputs": [],
   "source": [
    "df2=pd.read_excel('Test.xlsx',header=0,sep=',')"
   ]
  },
  {
   "cell_type": "code",
   "execution_count": 4,
   "metadata": {},
   "outputs": [
    {
     "data": {
      "text/plain": [
       "((16810, 19), (2936, 18))"
      ]
     },
     "execution_count": 4,
     "metadata": {},
     "output_type": "execute_result"
    }
   ],
   "source": [
    "df.shape,df2.shape"
   ]
  },
  {
   "cell_type": "code",
   "execution_count": 5,
   "metadata": {},
   "outputs": [
    {
     "data": {
      "text/plain": [
       "72"
      ]
     },
     "execution_count": 5,
     "metadata": {},
     "output_type": "execute_result"
    }
   ],
   "source": [
    "df.YearOfConstruction.nunique()"
   ]
  },
  {
   "cell_type": "code",
   "execution_count": 6,
   "metadata": {},
   "outputs": [
    {
     "data": {
      "text/plain": [
       "PropertyID                            object\n",
       "Borough                                int64\n",
       "State                                 object\n",
       "Surroundings                          object\n",
       "Address                               object\n",
       "ZipCode                                int64\n",
       "Block                                  int64\n",
       "Lot                                    int64\n",
       "BldgClassCategory                     object\n",
       "NoOfResidentialUnits                   int64\n",
       "NoOfCommercialUnits                    int64\n",
       "TotalNoOfUnits                         int64\n",
       "LandAreaInSqFt                         int64\n",
       "GrossAreaInSqFt                        int64\n",
       "YearOfConstruction                     int64\n",
       "TaxClass_AtEvaluationTime              int64\n",
       "BldgClass_AtEvaluationTime            object\n",
       "DateOfEvaluation              datetime64[ns]\n",
       "PropertyEvaluationvalue                int64\n",
       "dtype: object"
      ]
     },
     "execution_count": 6,
     "metadata": {},
     "output_type": "execute_result"
    }
   ],
   "source": [
    "df.dtypes"
   ]
  },
  {
   "cell_type": "code",
   "execution_count": 7,
   "metadata": {},
   "outputs": [
    {
     "data": {
      "text/html": [
       "<div>\n",
       "<style scoped>\n",
       "    .dataframe tbody tr th:only-of-type {\n",
       "        vertical-align: middle;\n",
       "    }\n",
       "\n",
       "    .dataframe tbody tr th {\n",
       "        vertical-align: top;\n",
       "    }\n",
       "\n",
       "    .dataframe thead th {\n",
       "        text-align: right;\n",
       "    }\n",
       "</style>\n",
       "<table border=\"1\" class=\"dataframe\">\n",
       "  <thead>\n",
       "    <tr style=\"text-align: right;\">\n",
       "      <th></th>\n",
       "      <th>PropertyID</th>\n",
       "      <th>Borough</th>\n",
       "      <th>State</th>\n",
       "      <th>Surroundings</th>\n",
       "      <th>Address</th>\n",
       "      <th>ZipCode</th>\n",
       "      <th>Block</th>\n",
       "      <th>Lot</th>\n",
       "      <th>BldgClassCategory</th>\n",
       "      <th>NoOfResidentialUnits</th>\n",
       "      <th>NoOfCommercialUnits</th>\n",
       "      <th>TotalNoOfUnits</th>\n",
       "      <th>LandAreaInSqFt</th>\n",
       "      <th>GrossAreaInSqFt</th>\n",
       "      <th>YearOfConstruction</th>\n",
       "      <th>TaxClass_AtEvaluationTime</th>\n",
       "      <th>BldgClass_AtEvaluationTime</th>\n",
       "      <th>DateOfEvaluation</th>\n",
       "      <th>PropertyEvaluationvalue</th>\n",
       "    </tr>\n",
       "  </thead>\n",
       "  <tbody>\n",
       "    <tr>\n",
       "      <td>count</td>\n",
       "      <td>16810</td>\n",
       "      <td>16810.000000</td>\n",
       "      <td>16810</td>\n",
       "      <td>16810</td>\n",
       "      <td>16810</td>\n",
       "      <td>16810.000000</td>\n",
       "      <td>16810.000000</td>\n",
       "      <td>16810.000000</td>\n",
       "      <td>16810</td>\n",
       "      <td>16810.000000</td>\n",
       "      <td>16810.000000</td>\n",
       "      <td>16810.000000</td>\n",
       "      <td>1.681000e+04</td>\n",
       "      <td>1.681000e+04</td>\n",
       "      <td>16810.000000</td>\n",
       "      <td>16810.000000</td>\n",
       "      <td>16810</td>\n",
       "      <td>16810</td>\n",
       "      <td>1.681000e+04</td>\n",
       "    </tr>\n",
       "    <tr>\n",
       "      <td>unique</td>\n",
       "      <td>16810</td>\n",
       "      <td>NaN</td>\n",
       "      <td>1</td>\n",
       "      <td>243</td>\n",
       "      <td>15219</td>\n",
       "      <td>NaN</td>\n",
       "      <td>NaN</td>\n",
       "      <td>NaN</td>\n",
       "      <td>52</td>\n",
       "      <td>NaN</td>\n",
       "      <td>NaN</td>\n",
       "      <td>NaN</td>\n",
       "      <td>NaN</td>\n",
       "      <td>NaN</td>\n",
       "      <td>NaN</td>\n",
       "      <td>NaN</td>\n",
       "      <td>101</td>\n",
       "      <td>572</td>\n",
       "      <td>NaN</td>\n",
       "    </tr>\n",
       "    <tr>\n",
       "      <td>top</td>\n",
       "      <td>PR15920</td>\n",
       "      <td>NaN</td>\n",
       "      <td>NY</td>\n",
       "      <td>FLUSHING-NORTH</td>\n",
       "      <td>102 WEST 57TH STREET</td>\n",
       "      <td>NaN</td>\n",
       "      <td>NaN</td>\n",
       "      <td>NaN</td>\n",
       "      <td>01 ONE FAMILY DWELLINGS</td>\n",
       "      <td>NaN</td>\n",
       "      <td>NaN</td>\n",
       "      <td>NaN</td>\n",
       "      <td>NaN</td>\n",
       "      <td>NaN</td>\n",
       "      <td>NaN</td>\n",
       "      <td>NaN</td>\n",
       "      <td>A5</td>\n",
       "      <td>2014-06-28 00:00:00</td>\n",
       "      <td>NaN</td>\n",
       "    </tr>\n",
       "    <tr>\n",
       "      <td>freq</td>\n",
       "      <td>1</td>\n",
       "      <td>NaN</td>\n",
       "      <td>16810</td>\n",
       "      <td>801</td>\n",
       "      <td>102</td>\n",
       "      <td>NaN</td>\n",
       "      <td>NaN</td>\n",
       "      <td>NaN</td>\n",
       "      <td>4272</td>\n",
       "      <td>NaN</td>\n",
       "      <td>NaN</td>\n",
       "      <td>NaN</td>\n",
       "      <td>NaN</td>\n",
       "      <td>NaN</td>\n",
       "      <td>NaN</td>\n",
       "      <td>NaN</td>\n",
       "      <td>3454</td>\n",
       "      <td>82</td>\n",
       "      <td>NaN</td>\n",
       "    </tr>\n",
       "    <tr>\n",
       "      <td>first</td>\n",
       "      <td>NaN</td>\n",
       "      <td>NaN</td>\n",
       "      <td>NaN</td>\n",
       "      <td>NaN</td>\n",
       "      <td>NaN</td>\n",
       "      <td>NaN</td>\n",
       "      <td>NaN</td>\n",
       "      <td>NaN</td>\n",
       "      <td>NaN</td>\n",
       "      <td>NaN</td>\n",
       "      <td>NaN</td>\n",
       "      <td>NaN</td>\n",
       "      <td>NaN</td>\n",
       "      <td>NaN</td>\n",
       "      <td>NaN</td>\n",
       "      <td>NaN</td>\n",
       "      <td>NaN</td>\n",
       "      <td>2012-08-01 00:00:00</td>\n",
       "      <td>NaN</td>\n",
       "    </tr>\n",
       "    <tr>\n",
       "      <td>last</td>\n",
       "      <td>NaN</td>\n",
       "      <td>NaN</td>\n",
       "      <td>NaN</td>\n",
       "      <td>NaN</td>\n",
       "      <td>NaN</td>\n",
       "      <td>NaN</td>\n",
       "      <td>NaN</td>\n",
       "      <td>NaN</td>\n",
       "      <td>NaN</td>\n",
       "      <td>NaN</td>\n",
       "      <td>NaN</td>\n",
       "      <td>NaN</td>\n",
       "      <td>NaN</td>\n",
       "      <td>NaN</td>\n",
       "      <td>NaN</td>\n",
       "      <td>NaN</td>\n",
       "      <td>NaN</td>\n",
       "      <td>2015-03-30 00:00:00</td>\n",
       "      <td>NaN</td>\n",
       "    </tr>\n",
       "    <tr>\n",
       "      <td>mean</td>\n",
       "      <td>NaN</td>\n",
       "      <td>3.439143</td>\n",
       "      <td>NaN</td>\n",
       "      <td>NaN</td>\n",
       "      <td>NaN</td>\n",
       "      <td>10871.027543</td>\n",
       "      <td>5428.122308</td>\n",
       "      <td>266.327722</td>\n",
       "      <td>NaN</td>\n",
       "      <td>1.862225</td>\n",
       "      <td>0.137775</td>\n",
       "      <td>2.000000</td>\n",
       "      <td>1.092492e+04</td>\n",
       "      <td>3.612157e+03</td>\n",
       "      <td>1973.982867</td>\n",
       "      <td>1.289530</td>\n",
       "      <td>NaN</td>\n",
       "      <td>NaN</td>\n",
       "      <td>8.084101e+05</td>\n",
       "    </tr>\n",
       "    <tr>\n",
       "      <td>std</td>\n",
       "      <td>NaN</td>\n",
       "      <td>1.398950</td>\n",
       "      <td>NaN</td>\n",
       "      <td>NaN</td>\n",
       "      <td>NaN</td>\n",
       "      <td>522.996869</td>\n",
       "      <td>3710.031921</td>\n",
       "      <td>542.420132</td>\n",
       "      <td>NaN</td>\n",
       "      <td>8.027805</td>\n",
       "      <td>2.185857</td>\n",
       "      <td>8.472771</td>\n",
       "      <td>5.837620e+04</td>\n",
       "      <td>1.627378e+04</td>\n",
       "      <td>23.632595</td>\n",
       "      <td>0.713779</td>\n",
       "      <td>NaN</td>\n",
       "      <td>NaN</td>\n",
       "      <td>8.978317e+05</td>\n",
       "    </tr>\n",
       "    <tr>\n",
       "      <td>min</td>\n",
       "      <td>NaN</td>\n",
       "      <td>1.000000</td>\n",
       "      <td>NaN</td>\n",
       "      <td>NaN</td>\n",
       "      <td>NaN</td>\n",
       "      <td>10001.000000</td>\n",
       "      <td>6.000000</td>\n",
       "      <td>1.000000</td>\n",
       "      <td>NaN</td>\n",
       "      <td>0.000000</td>\n",
       "      <td>0.000000</td>\n",
       "      <td>1.000000</td>\n",
       "      <td>1.000000e+00</td>\n",
       "      <td>1.000000e+00</td>\n",
       "      <td>1941.000000</td>\n",
       "      <td>1.000000</td>\n",
       "      <td>NaN</td>\n",
       "      <td>NaN</td>\n",
       "      <td>1.000440e+05</td>\n",
       "    </tr>\n",
       "    <tr>\n",
       "      <td>25%</td>\n",
       "      <td>NaN</td>\n",
       "      <td>2.000000</td>\n",
       "      <td>NaN</td>\n",
       "      <td>NaN</td>\n",
       "      <td>NaN</td>\n",
       "      <td>10312.000000</td>\n",
       "      <td>2401.250000</td>\n",
       "      <td>25.000000</td>\n",
       "      <td>NaN</td>\n",
       "      <td>1.000000</td>\n",
       "      <td>0.000000</td>\n",
       "      <td>1.000000</td>\n",
       "      <td>2.100000e+03</td>\n",
       "      <td>1.224000e+03</td>\n",
       "      <td>1951.000000</td>\n",
       "      <td>1.000000</td>\n",
       "      <td>NaN</td>\n",
       "      <td>NaN</td>\n",
       "      <td>4.250000e+05</td>\n",
       "    </tr>\n",
       "    <tr>\n",
       "      <td>50%</td>\n",
       "      <td>NaN</td>\n",
       "      <td>3.000000</td>\n",
       "      <td>NaN</td>\n",
       "      <td>NaN</td>\n",
       "      <td>NaN</td>\n",
       "      <td>11207.000000</td>\n",
       "      <td>5050.000000</td>\n",
       "      <td>52.000000</td>\n",
       "      <td>NaN</td>\n",
       "      <td>1.000000</td>\n",
       "      <td>0.000000</td>\n",
       "      <td>1.000000</td>\n",
       "      <td>3.200000e+03</td>\n",
       "      <td>1.750000e+03</td>\n",
       "      <td>1968.000000</td>\n",
       "      <td>1.000000</td>\n",
       "      <td>NaN</td>\n",
       "      <td>NaN</td>\n",
       "      <td>5.900000e+05</td>\n",
       "    </tr>\n",
       "    <tr>\n",
       "      <td>75%</td>\n",
       "      <td>NaN</td>\n",
       "      <td>5.000000</td>\n",
       "      <td>NaN</td>\n",
       "      <td>NaN</td>\n",
       "      <td>NaN</td>\n",
       "      <td>11364.000000</td>\n",
       "      <td>7376.750000</td>\n",
       "      <td>138.000000</td>\n",
       "      <td>NaN</td>\n",
       "      <td>2.000000</td>\n",
       "      <td>0.000000</td>\n",
       "      <td>2.000000</td>\n",
       "      <td>5.000000e+03</td>\n",
       "      <td>2.449750e+03</td>\n",
       "      <td>1998.000000</td>\n",
       "      <td>1.000000</td>\n",
       "      <td>NaN</td>\n",
       "      <td>NaN</td>\n",
       "      <td>8.450000e+05</td>\n",
       "    </tr>\n",
       "    <tr>\n",
       "      <td>max</td>\n",
       "      <td>NaN</td>\n",
       "      <td>5.000000</td>\n",
       "      <td>NaN</td>\n",
       "      <td>NaN</td>\n",
       "      <td>NaN</td>\n",
       "      <td>11694.000000</td>\n",
       "      <td>16314.000000</td>\n",
       "      <td>5323.000000</td>\n",
       "      <td>NaN</td>\n",
       "      <td>437.000000</td>\n",
       "      <td>252.000000</td>\n",
       "      <td>437.000000</td>\n",
       "      <td>5.612000e+06</td>\n",
       "      <td>1.172005e+06</td>\n",
       "      <td>2012.000000</td>\n",
       "      <td>4.000000</td>\n",
       "      <td>NaN</td>\n",
       "      <td>NaN</td>\n",
       "      <td>9.935000e+06</td>\n",
       "    </tr>\n",
       "  </tbody>\n",
       "</table>\n",
       "</div>"
      ],
      "text/plain": [
       "       PropertyID       Borough  State    Surroundings               Address  \\\n",
       "count       16810  16810.000000  16810           16810                 16810   \n",
       "unique      16810           NaN      1             243                 15219   \n",
       "top       PR15920           NaN     NY  FLUSHING-NORTH  102 WEST 57TH STREET   \n",
       "freq            1           NaN  16810             801                   102   \n",
       "first         NaN           NaN    NaN             NaN                   NaN   \n",
       "last          NaN           NaN    NaN             NaN                   NaN   \n",
       "mean          NaN      3.439143    NaN             NaN                   NaN   \n",
       "std           NaN      1.398950    NaN             NaN                   NaN   \n",
       "min           NaN      1.000000    NaN             NaN                   NaN   \n",
       "25%           NaN      2.000000    NaN             NaN                   NaN   \n",
       "50%           NaN      3.000000    NaN             NaN                   NaN   \n",
       "75%           NaN      5.000000    NaN             NaN                   NaN   \n",
       "max           NaN      5.000000    NaN             NaN                   NaN   \n",
       "\n",
       "             ZipCode         Block           Lot        BldgClassCategory  \\\n",
       "count   16810.000000  16810.000000  16810.000000                    16810   \n",
       "unique           NaN           NaN           NaN                       52   \n",
       "top              NaN           NaN           NaN  01 ONE FAMILY DWELLINGS   \n",
       "freq             NaN           NaN           NaN                     4272   \n",
       "first            NaN           NaN           NaN                      NaN   \n",
       "last             NaN           NaN           NaN                      NaN   \n",
       "mean    10871.027543   5428.122308    266.327722                      NaN   \n",
       "std       522.996869   3710.031921    542.420132                      NaN   \n",
       "min     10001.000000      6.000000      1.000000                      NaN   \n",
       "25%     10312.000000   2401.250000     25.000000                      NaN   \n",
       "50%     11207.000000   5050.000000     52.000000                      NaN   \n",
       "75%     11364.000000   7376.750000    138.000000                      NaN   \n",
       "max     11694.000000  16314.000000   5323.000000                      NaN   \n",
       "\n",
       "        NoOfResidentialUnits  NoOfCommercialUnits  TotalNoOfUnits  \\\n",
       "count           16810.000000         16810.000000    16810.000000   \n",
       "unique                   NaN                  NaN             NaN   \n",
       "top                      NaN                  NaN             NaN   \n",
       "freq                     NaN                  NaN             NaN   \n",
       "first                    NaN                  NaN             NaN   \n",
       "last                     NaN                  NaN             NaN   \n",
       "mean                1.862225             0.137775        2.000000   \n",
       "std                 8.027805             2.185857        8.472771   \n",
       "min                 0.000000             0.000000        1.000000   \n",
       "25%                 1.000000             0.000000        1.000000   \n",
       "50%                 1.000000             0.000000        1.000000   \n",
       "75%                 2.000000             0.000000        2.000000   \n",
       "max               437.000000           252.000000      437.000000   \n",
       "\n",
       "        LandAreaInSqFt  GrossAreaInSqFt  YearOfConstruction  \\\n",
       "count     1.681000e+04     1.681000e+04        16810.000000   \n",
       "unique             NaN              NaN                 NaN   \n",
       "top                NaN              NaN                 NaN   \n",
       "freq               NaN              NaN                 NaN   \n",
       "first              NaN              NaN                 NaN   \n",
       "last               NaN              NaN                 NaN   \n",
       "mean      1.092492e+04     3.612157e+03         1973.982867   \n",
       "std       5.837620e+04     1.627378e+04           23.632595   \n",
       "min       1.000000e+00     1.000000e+00         1941.000000   \n",
       "25%       2.100000e+03     1.224000e+03         1951.000000   \n",
       "50%       3.200000e+03     1.750000e+03         1968.000000   \n",
       "75%       5.000000e+03     2.449750e+03         1998.000000   \n",
       "max       5.612000e+06     1.172005e+06         2012.000000   \n",
       "\n",
       "        TaxClass_AtEvaluationTime BldgClass_AtEvaluationTime  \\\n",
       "count                16810.000000                      16810   \n",
       "unique                        NaN                        101   \n",
       "top                           NaN                         A5   \n",
       "freq                          NaN                       3454   \n",
       "first                         NaN                        NaN   \n",
       "last                          NaN                        NaN   \n",
       "mean                     1.289530                        NaN   \n",
       "std                      0.713779                        NaN   \n",
       "min                      1.000000                        NaN   \n",
       "25%                      1.000000                        NaN   \n",
       "50%                      1.000000                        NaN   \n",
       "75%                      1.000000                        NaN   \n",
       "max                      4.000000                        NaN   \n",
       "\n",
       "           DateOfEvaluation  PropertyEvaluationvalue  \n",
       "count                 16810             1.681000e+04  \n",
       "unique                  572                      NaN  \n",
       "top     2014-06-28 00:00:00                      NaN  \n",
       "freq                     82                      NaN  \n",
       "first   2012-08-01 00:00:00                      NaN  \n",
       "last    2015-03-30 00:00:00                      NaN  \n",
       "mean                    NaN             8.084101e+05  \n",
       "std                     NaN             8.978317e+05  \n",
       "min                     NaN             1.000440e+05  \n",
       "25%                     NaN             4.250000e+05  \n",
       "50%                     NaN             5.900000e+05  \n",
       "75%                     NaN             8.450000e+05  \n",
       "max                     NaN             9.935000e+06  "
      ]
     },
     "execution_count": 7,
     "metadata": {},
     "output_type": "execute_result"
    }
   ],
   "source": [
    "df.describe(include='all')"
   ]
  },
  {
   "cell_type": "code",
   "execution_count": 8,
   "metadata": {},
   "outputs": [],
   "source": [
    "df.drop(['PropertyID','State','Address'],axis=1,inplace=True)"
   ]
  },
  {
   "cell_type": "code",
   "execution_count": 9,
   "metadata": {},
   "outputs": [],
   "source": [
    "df2.drop(['PropertyID','State','Address'],axis=1,inplace=True)"
   ]
  },
  {
   "cell_type": "code",
   "execution_count": 10,
   "metadata": {},
   "outputs": [
    {
     "data": {
      "text/plain": [
       "<matplotlib.collections.PathCollection at 0xe3b70cd248>"
      ]
     },
     "execution_count": 10,
     "metadata": {},
     "output_type": "execute_result"
    },
    {
     "data": {
      "image/png": "[encoded data removed]",
      "text/plain": [
       "<Figure size 432x288 with 1 Axes>"
      ]
     },
     "metadata": {
      "needs_background": "light"
     },
     "output_type": "display_data"
    }
   ],
   "source": [
    "plt.scatter(df.ZipCode,df.PropertyEvaluationvalue)"
   ]
  },
  {
   "cell_type": "code",
   "execution_count": 11,
   "metadata": {},
   "outputs": [
    {
     "data": {
      "text/plain": [
       "<matplotlib.axes._subplots.AxesSubplot at 0xe3b704cd08>"
      ]
     },
     "execution_count": 11,
     "metadata": {},
     "output_type": "execute_result"
    },
    {
     "data": {
      "image/png": "[encoded data removed]",
      "text/plain": [
       "<Figure size 720x720 with 1 Axes>"
      ]
     },
     "metadata": {
      "needs_background": "light"
     },
     "output_type": "display_data"
    }
   ],
   "source": [
    "plt.figure(figsize=(10,10))\n",
    "sns.barplot(df.ZipCode,df.PropertyEvaluationvalue)"
   ]
  },
  {
   "cell_type": "code",
   "execution_count": 12,
   "metadata": {},
   "outputs": [],
   "source": [
    "df['bldgclass']=df['BldgClassCategory'].str.extract('(\\d+)')"
   ]
  },
  {
   "cell_type": "code",
   "execution_count": 13,
   "metadata": {},
   "outputs": [],
   "source": [
    "df2['bldgclass']=df['BldgClassCategory'].str.extract('(\\d+)')"
   ]
  },
  {
   "cell_type": "code",
   "execution_count": 14,
   "metadata": {},
   "outputs": [],
   "source": [
    "df.drop(['BldgClassCategory'],axis=1,inplace=True)"
   ]
  },
  {
   "cell_type": "code",
   "execution_count": 15,
   "metadata": {},
   "outputs": [],
   "source": [
    "df2.drop(['BldgClassCategory'],axis=1,inplace=True)"
   ]
  },
  {
   "cell_type": "code",
   "execution_count": 16,
   "metadata": {},
   "outputs": [],
   "source": [
    "#sns.pairplot(df)"
   ]
  },
  {
   "cell_type": "code",
   "execution_count": 17,
   "metadata": {},
   "outputs": [
    {
     "data": {
      "text/html": [
       "<div>\n",
       "<style scoped>\n",
       "    .dataframe tbody tr th:only-of-type {\n",
       "        vertical-align: middle;\n",
       "    }\n",
       "\n",
       "    .dataframe tbody tr th {\n",
       "        vertical-align: top;\n",
       "    }\n",
       "\n",
       "    .dataframe thead th {\n",
       "        text-align: right;\n",
       "    }\n",
       "</style>\n",
       "<table border=\"1\" class=\"dataframe\">\n",
       "  <thead>\n",
       "    <tr style=\"text-align: right;\">\n",
       "      <th></th>\n",
       "      <th>Borough</th>\n",
       "      <th>ZipCode</th>\n",
       "      <th>Block</th>\n",
       "      <th>Lot</th>\n",
       "      <th>NoOfResidentialUnits</th>\n",
       "      <th>NoOfCommercialUnits</th>\n",
       "      <th>TotalNoOfUnits</th>\n",
       "      <th>LandAreaInSqFt</th>\n",
       "      <th>GrossAreaInSqFt</th>\n",
       "      <th>YearOfConstruction</th>\n",
       "      <th>TaxClass_AtEvaluationTime</th>\n",
       "      <th>PropertyEvaluationvalue</th>\n",
       "    </tr>\n",
       "  </thead>\n",
       "  <tbody>\n",
       "    <tr>\n",
       "      <td>Borough</td>\n",
       "      <td>1.000000</td>\n",
       "      <td>0.488406</td>\n",
       "      <td>0.313951</td>\n",
       "      <td>0.005866</td>\n",
       "      <td>-0.005122</td>\n",
       "      <td>-0.006849</td>\n",
       "      <td>-0.006620</td>\n",
       "      <td>0.002994</td>\n",
       "      <td>0.005231</td>\n",
       "      <td>-0.168352</td>\n",
       "      <td>0.003318</td>\n",
       "      <td>0.049743</td>\n",
       "    </tr>\n",
       "    <tr>\n",
       "      <td>ZipCode</td>\n",
       "      <td>0.488406</td>\n",
       "      <td>1.000000</td>\n",
       "      <td>0.528438</td>\n",
       "      <td>-0.125573</td>\n",
       "      <td>0.014876</td>\n",
       "      <td>-0.002288</td>\n",
       "      <td>0.013504</td>\n",
       "      <td>-0.046456</td>\n",
       "      <td>-0.090817</td>\n",
       "      <td>-0.261036</td>\n",
       "      <td>-0.044437</td>\n",
       "      <td>-0.012603</td>\n",
       "    </tr>\n",
       "    <tr>\n",
       "      <td>Block</td>\n",
       "      <td>0.313951</td>\n",
       "      <td>0.528438</td>\n",
       "      <td>1.000000</td>\n",
       "      <td>-0.240481</td>\n",
       "      <td>-0.008005</td>\n",
       "      <td>-0.024037</td>\n",
       "      <td>-0.013785</td>\n",
       "      <td>-0.046750</td>\n",
       "      <td>-0.083749</td>\n",
       "      <td>-0.269244</td>\n",
       "      <td>-0.234643</td>\n",
       "      <td>-0.186906</td>\n",
       "    </tr>\n",
       "    <tr>\n",
       "      <td>Lot</td>\n",
       "      <td>0.005866</td>\n",
       "      <td>-0.125573</td>\n",
       "      <td>-0.240481</td>\n",
       "      <td>1.000000</td>\n",
       "      <td>-0.025278</td>\n",
       "      <td>-0.000308</td>\n",
       "      <td>-0.024030</td>\n",
       "      <td>0.234273</td>\n",
       "      <td>-0.050164</td>\n",
       "      <td>0.339635</td>\n",
       "      <td>0.280392</td>\n",
       "      <td>0.207938</td>\n",
       "    </tr>\n",
       "    <tr>\n",
       "      <td>NoOfResidentialUnits</td>\n",
       "      <td>-0.005122</td>\n",
       "      <td>0.014876</td>\n",
       "      <td>-0.008005</td>\n",
       "      <td>-0.025278</td>\n",
       "      <td>1.000000</td>\n",
       "      <td>0.073065</td>\n",
       "      <td>0.966332</td>\n",
       "      <td>0.049807</td>\n",
       "      <td>0.467357</td>\n",
       "      <td>0.005098</td>\n",
       "      <td>0.038005</td>\n",
       "      <td>0.098409</td>\n",
       "    </tr>\n",
       "    <tr>\n",
       "      <td>NoOfCommercialUnits</td>\n",
       "      <td>-0.006849</td>\n",
       "      <td>-0.002288</td>\n",
       "      <td>-0.024037</td>\n",
       "      <td>-0.000308</td>\n",
       "      <td>0.073065</td>\n",
       "      <td>1.000000</td>\n",
       "      <td>0.327214</td>\n",
       "      <td>0.660527</td>\n",
       "      <td>0.604961</td>\n",
       "      <td>0.020689</td>\n",
       "      <td>0.219687</td>\n",
       "      <td>0.068230</td>\n",
       "    </tr>\n",
       "    <tr>\n",
       "      <td>TotalNoOfUnits</td>\n",
       "      <td>-0.006620</td>\n",
       "      <td>0.013504</td>\n",
       "      <td>-0.013785</td>\n",
       "      <td>-0.024030</td>\n",
       "      <td>0.966332</td>\n",
       "      <td>0.327214</td>\n",
       "      <td>1.000000</td>\n",
       "      <td>0.217598</td>\n",
       "      <td>0.598885</td>\n",
       "      <td>0.010168</td>\n",
       "      <td>0.092686</td>\n",
       "      <td>0.110843</td>\n",
       "    </tr>\n",
       "    <tr>\n",
       "      <td>LandAreaInSqFt</td>\n",
       "      <td>0.002994</td>\n",
       "      <td>-0.046456</td>\n",
       "      <td>-0.046750</td>\n",
       "      <td>0.234273</td>\n",
       "      <td>0.049807</td>\n",
       "      <td>0.660527</td>\n",
       "      <td>0.217598</td>\n",
       "      <td>1.000000</td>\n",
       "      <td>0.465828</td>\n",
       "      <td>0.018417</td>\n",
       "      <td>0.090533</td>\n",
       "      <td>0.034867</td>\n",
       "    </tr>\n",
       "    <tr>\n",
       "      <td>GrossAreaInSqFt</td>\n",
       "      <td>0.005231</td>\n",
       "      <td>-0.090817</td>\n",
       "      <td>-0.083749</td>\n",
       "      <td>-0.050164</td>\n",
       "      <td>0.467357</td>\n",
       "      <td>0.604961</td>\n",
       "      <td>0.598885</td>\n",
       "      <td>0.465828</td>\n",
       "      <td>1.000000</td>\n",
       "      <td>0.085072</td>\n",
       "      <td>0.328519</td>\n",
       "      <td>0.068621</td>\n",
       "    </tr>\n",
       "    <tr>\n",
       "      <td>YearOfConstruction</td>\n",
       "      <td>-0.168352</td>\n",
       "      <td>-0.261036</td>\n",
       "      <td>-0.269244</td>\n",
       "      <td>0.339635</td>\n",
       "      <td>0.005098</td>\n",
       "      <td>0.020689</td>\n",
       "      <td>0.010168</td>\n",
       "      <td>0.018417</td>\n",
       "      <td>0.085072</td>\n",
       "      <td>1.000000</td>\n",
       "      <td>0.210623</td>\n",
       "      <td>0.113079</td>\n",
       "    </tr>\n",
       "    <tr>\n",
       "      <td>TaxClass_AtEvaluationTime</td>\n",
       "      <td>0.003318</td>\n",
       "      <td>-0.044437</td>\n",
       "      <td>-0.234643</td>\n",
       "      <td>0.280392</td>\n",
       "      <td>0.038005</td>\n",
       "      <td>0.219687</td>\n",
       "      <td>0.092686</td>\n",
       "      <td>0.090533</td>\n",
       "      <td>0.328519</td>\n",
       "      <td>0.210623</td>\n",
       "      <td>1.000000</td>\n",
       "      <td>0.402181</td>\n",
       "    </tr>\n",
       "    <tr>\n",
       "      <td>PropertyEvaluationvalue</td>\n",
       "      <td>0.049743</td>\n",
       "      <td>-0.012603</td>\n",
       "      <td>-0.186906</td>\n",
       "      <td>0.207938</td>\n",
       "      <td>0.098409</td>\n",
       "      <td>0.068230</td>\n",
       "      <td>0.110843</td>\n",
       "      <td>0.034867</td>\n",
       "      <td>0.068621</td>\n",
       "      <td>0.113079</td>\n",
       "      <td>0.402181</td>\n",
       "      <td>1.000000</td>\n",
       "    </tr>\n",
       "  </tbody>\n",
       "</table>\n",
       "</div>"
      ],
      "text/plain": [
       "                            Borough   ZipCode     Block       Lot  \\\n",
       "Borough                    1.000000  0.488406  0.313951  0.005866   \n",
       "ZipCode                    0.488406  1.000000  0.528438 -0.125573   \n",
       "Block                      0.313951  0.528438  1.000000 -0.240481   \n",
       "Lot                        0.005866 -0.125573 -0.240481  1.000000   \n",
       "NoOfResidentialUnits      -0.005122  0.014876 -0.008005 -0.025278   \n",
       "NoOfCommercialUnits       -0.006849 -0.002288 -0.024037 -0.000308   \n",
       "TotalNoOfUnits            -0.006620  0.013504 -0.013785 -0.024030   \n",
       "LandAreaInSqFt             0.002994 -0.046456 -0.046750  0.234273   \n",
       "GrossAreaInSqFt            0.005231 -0.090817 -0.083749 -0.050164   \n",
       "YearOfConstruction        -0.168352 -0.261036 -0.269244  0.339635   \n",
       "TaxClass_AtEvaluationTime  0.003318 -0.044437 -0.234643  0.280392   \n",
       "PropertyEvaluationvalue    0.049743 -0.012603 -0.186906  0.207938   \n",
       "\n",
       "                           NoOfResidentialUnits  NoOfCommercialUnits  \\\n",
       "Borough                               -0.005122            -0.006849   \n",
       "ZipCode                                0.014876            -0.002288   \n",
       "Block                                 -0.008005            -0.024037   \n",
       "Lot                                   -0.025278            -0.000308   \n",
       "NoOfResidentialUnits                   1.000000             0.073065   \n",
       "NoOfCommercialUnits                    0.073065             1.000000   \n",
       "TotalNoOfUnits                         0.966332             0.327214   \n",
       "LandAreaInSqFt                         0.049807             0.660527   \n",
       "GrossAreaInSqFt                        0.467357             0.604961   \n",
       "YearOfConstruction                     0.005098             0.020689   \n",
       "TaxClass_AtEvaluationTime              0.038005             0.219687   \n",
       "PropertyEvaluationvalue                0.098409             0.068230   \n",
       "\n",
       "                           TotalNoOfUnits  LandAreaInSqFt  GrossAreaInSqFt  \\\n",
       "Borough                         -0.006620        0.002994         0.005231   \n",
       "ZipCode                          0.013504       -0.046456        -0.090817   \n",
       "Block                           -0.013785       -0.046750        -0.083749   \n",
       "Lot                             -0.024030        0.234273        -0.050164   \n",
       "NoOfResidentialUnits             0.966332        0.049807         0.467357   \n",
       "NoOfCommercialUnits              0.327214        0.660527         0.604961   \n",
       "TotalNoOfUnits                   1.000000        0.217598         0.598885   \n",
       "LandAreaInSqFt                   0.217598        1.000000         0.465828   \n",
       "GrossAreaInSqFt                  0.598885        0.465828         1.000000   \n",
       "YearOfConstruction               0.010168        0.018417         0.085072   \n",
       "TaxClass_AtEvaluationTime        0.092686        0.090533         0.328519   \n",
       "PropertyEvaluationvalue          0.110843        0.034867         0.068621   \n",
       "\n",
       "                           YearOfConstruction  TaxClass_AtEvaluationTime  \\\n",
       "Borough                             -0.168352                   0.003318   \n",
       "ZipCode                             -0.261036                  -0.044437   \n",
       "Block                               -0.269244                  -0.234643   \n",
       "Lot                                  0.339635                   0.280392   \n",
       "NoOfResidentialUnits                 0.005098                   0.038005   \n",
       "NoOfCommercialUnits                  0.020689                   0.219687   \n",
       "TotalNoOfUnits                       0.010168                   0.092686   \n",
       "LandAreaInSqFt                       0.018417                   0.090533   \n",
       "GrossAreaInSqFt                      0.085072                   0.328519   \n",
       "YearOfConstruction                   1.000000                   0.210623   \n",
       "TaxClass_AtEvaluationTime            0.210623                   1.000000   \n",
       "PropertyEvaluationvalue              0.113079                   0.402181   \n",
       "\n",
       "                           PropertyEvaluationvalue  \n",
       "Borough                                   0.049743  \n",
       "ZipCode                                  -0.012603  \n",
       "Block                                    -0.186906  \n",
       "Lot                                       0.207938  \n",
       "NoOfResidentialUnits                      0.098409  \n",
       "NoOfCommercialUnits                       0.068230  \n",
       "TotalNoOfUnits                            0.110843  \n",
       "LandAreaInSqFt                            0.034867  \n",
       "GrossAreaInSqFt                           0.068621  \n",
       "YearOfConstruction                        0.113079  \n",
       "TaxClass_AtEvaluationTime                 0.402181  \n",
       "PropertyEvaluationvalue                   1.000000  "
      ]
     },
     "execution_count": 17,
     "metadata": {},
     "output_type": "execute_result"
    }
   ],
   "source": [
    "df.corr()"
   ]
  },
  {
   "cell_type": "code",
   "execution_count": 18,
   "metadata": {},
   "outputs": [
    {
     "data": {
      "text/plain": [
       "<matplotlib.axes._subplots.AxesSubplot at 0xe3b7374448>"
      ]
     },
     "execution_count": 18,
     "metadata": {},
     "output_type": "execute_result"
    },
    {
     "data": {
      "image/png": "[encoded data removed]",
      "text/plain": [
       "<Figure size 720x720 with 2 Axes>"
      ]
     },
     "metadata": {
      "needs_background": "light"
     },
     "output_type": "display_data"
    }
   ],
   "source": [
    "plt.figure(figsize=(10,10))\n",
    "sns.heatmap(df.corr(),annot=True)"
   ]
  },
  {
   "cell_type": "code",
   "execution_count": 19,
   "metadata": {},
   "outputs": [
    {
     "data": {
      "text/plain": [
       "<matplotlib.axes._subplots.AxesSubplot at 0xe3b7c56e08>"
      ]
     },
     "execution_count": 19,
     "metadata": {},
     "output_type": "execute_result"
    },
    {
     "data": {
      "image/png": "[encoded data removed]",
      "text/plain": [
       "<Figure size 432x288 with 1 Axes>"
      ]
     },
     "metadata": {
      "needs_background": "light"
     },
     "output_type": "display_data"
    }
   ],
   "source": [
    "sns.boxplot(df.GrossAreaInSqFt,orient='v')"
   ]
  },
  {
   "cell_type": "code",
   "execution_count": 20,
   "metadata": {},
   "outputs": [
    {
     "data": {
      "text/plain": [
       "<matplotlib.axes._subplots.AxesSubplot at 0xe3b7edfb48>"
      ]
     },
     "execution_count": 20,
     "metadata": {},
     "output_type": "execute_result"
    },
    {
     "data": {
      "image/png": "[encoded data removed]",
      "text/plain": [
       "<Figure size 432x288 with 1 Axes>"
      ]
     },
     "metadata": {
      "needs_background": "light"
     },
     "output_type": "display_data"
    }
   ],
   "source": [
    "sns.boxplot(df.LandAreaInSqFt,orient='v')"
   ]
  },
  {
   "cell_type": "code",
   "execution_count": 21,
   "metadata": {},
   "outputs": [
    {
     "data": {
      "text/plain": [
       "Borough                                int64\n",
       "Surroundings                          object\n",
       "ZipCode                                int64\n",
       "Block                                  int64\n",
       "Lot                                    int64\n",
       "NoOfResidentialUnits                   int64\n",
       "NoOfCommercialUnits                    int64\n",
       "TotalNoOfUnits                         int64\n",
       "LandAreaInSqFt                         int64\n",
       "GrossAreaInSqFt                        int64\n",
       "YearOfConstruction                     int64\n",
       "TaxClass_AtEvaluationTime              int64\n",
       "BldgClass_AtEvaluationTime            object\n",
       "DateOfEvaluation              datetime64[ns]\n",
       "PropertyEvaluationvalue                int64\n",
       "bldgclass                             object\n",
       "dtype: object"
      ]
     },
     "execution_count": 21,
     "metadata": {},
     "output_type": "execute_result"
    }
   ],
   "source": [
    "df.dtypes"
   ]
  },
  {
   "cell_type": "code",
   "execution_count": 22,
   "metadata": {},
   "outputs": [],
   "source": [
    "df['DateOfEvaluation']=pd.to_datetime(df['DateOfEvaluation']) \n",
    "df2['DateOfEvaluation']=pd.to_datetime(df2['DateOfEvaluation']) "
   ]
  },
  {
   "cell_type": "code",
   "execution_count": 23,
   "metadata": {},
   "outputs": [],
   "source": [
    "#df['YearOfConstruction']=pd.to_datetime(df['YearOfConstruction']) "
   ]
  },
  {
   "cell_type": "code",
   "execution_count": 24,
   "metadata": {},
   "outputs": [
    {
     "data": {
      "text/plain": [
       "Borough                                int64\n",
       "Surroundings                          object\n",
       "ZipCode                                int64\n",
       "Block                                  int64\n",
       "Lot                                    int64\n",
       "NoOfResidentialUnits                   int64\n",
       "NoOfCommercialUnits                    int64\n",
       "TotalNoOfUnits                         int64\n",
       "LandAreaInSqFt                         int64\n",
       "GrossAreaInSqFt                        int64\n",
       "YearOfConstruction                     int64\n",
       "TaxClass_AtEvaluationTime              int64\n",
       "BldgClass_AtEvaluationTime            object\n",
       "DateOfEvaluation              datetime64[ns]\n",
       "PropertyEvaluationvalue                int64\n",
       "bldgclass                             object\n",
       "dtype: object"
      ]
     },
     "execution_count": 24,
     "metadata": {},
     "output_type": "execute_result"
    }
   ],
   "source": [
    "df.dtypes"
   ]
  },
  {
   "cell_type": "code",
   "execution_count": 25,
   "metadata": {},
   "outputs": [],
   "source": [
    "df['YearOfEvaluation']= df['DateOfEvaluation'].dt.strftime(\"%Y\")"
   ]
  },
  {
   "cell_type": "code",
   "execution_count": 26,
   "metadata": {},
   "outputs": [],
   "source": [
    "df2['YearOfEvaluation']= df2['DateOfEvaluation'].dt.strftime(\"%Y\")"
   ]
  },
  {
   "cell_type": "code",
   "execution_count": 27,
   "metadata": {},
   "outputs": [],
   "source": [
    "df['YearOfEvaluation']= df['YearOfEvaluation'].astype('int64')\n",
    "df2['YearOfEvaluation']= df2['YearOfEvaluation'].astype('int64')"
   ]
  },
  {
   "cell_type": "code",
   "execution_count": 28,
   "metadata": {},
   "outputs": [],
   "source": [
    "df['age'] = df['YearOfEvaluation'] - df['YearOfConstruction']"
   ]
  },
  {
   "cell_type": "code",
   "execution_count": 29,
   "metadata": {},
   "outputs": [],
   "source": [
    "df2['age'] = df2['YearOfEvaluation'] - df2['YearOfConstruction']"
   ]
  },
  {
   "cell_type": "code",
   "execution_count": 30,
   "metadata": {},
   "outputs": [],
   "source": [
    "df.drop(['DateOfEvaluation','YearOfConstruction','YearOfEvaluation'],axis=1,inplace=True)"
   ]
  },
  {
   "cell_type": "code",
   "execution_count": 31,
   "metadata": {},
   "outputs": [],
   "source": [
    "df2.drop(['DateOfEvaluation','YearOfConstruction','YearOfEvaluation'],axis=1,inplace=True)"
   ]
  },
  {
   "cell_type": "code",
   "execution_count": 32,
   "metadata": {},
   "outputs": [
    {
     "data": {
      "text/plain": [
       "((16810, 15), (2936, 14))"
      ]
     },
     "execution_count": 32,
     "metadata": {},
     "output_type": "execute_result"
    }
   ],
   "source": [
    "df.shape,df2.shape"
   ]
  },
  {
   "cell_type": "code",
   "execution_count": 33,
   "metadata": {},
   "outputs": [
    {
     "data": {
      "text/html": [
       "<div>\n",
       "<style scoped>\n",
       "    .dataframe tbody tr th:only-of-type {\n",
       "        vertical-align: middle;\n",
       "    }\n",
       "\n",
       "    .dataframe tbody tr th {\n",
       "        vertical-align: top;\n",
       "    }\n",
       "\n",
       "    .dataframe thead th {\n",
       "        text-align: right;\n",
       "    }\n",
       "</style>\n",
       "<table border=\"1\" class=\"dataframe\">\n",
       "  <thead>\n",
       "    <tr style=\"text-align: right;\">\n",
       "      <th></th>\n",
       "      <th>Borough</th>\n",
       "      <th>Surroundings</th>\n",
       "      <th>ZipCode</th>\n",
       "      <th>Block</th>\n",
       "      <th>Lot</th>\n",
       "      <th>NoOfResidentialUnits</th>\n",
       "      <th>NoOfCommercialUnits</th>\n",
       "      <th>TotalNoOfUnits</th>\n",
       "      <th>LandAreaInSqFt</th>\n",
       "      <th>GrossAreaInSqFt</th>\n",
       "      <th>TaxClass_AtEvaluationTime</th>\n",
       "      <th>BldgClass_AtEvaluationTime</th>\n",
       "      <th>PropertyEvaluationvalue</th>\n",
       "      <th>bldgclass</th>\n",
       "      <th>age</th>\n",
       "    </tr>\n",
       "  </thead>\n",
       "  <tbody>\n",
       "    <tr>\n",
       "      <td>0</td>\n",
       "      <td>1</td>\n",
       "      <td>BATHGATE</td>\n",
       "      <td>10456</td>\n",
       "      <td>2927</td>\n",
       "      <td>127</td>\n",
       "      <td>2</td>\n",
       "      <td>0</td>\n",
       "      <td>2</td>\n",
       "      <td>1900</td>\n",
       "      <td>2394</td>\n",
       "      <td>1</td>\n",
       "      <td>B1</td>\n",
       "      <td>540000</td>\n",
       "      <td>02</td>\n",
       "      <td>24</td>\n",
       "    </tr>\n",
       "    <tr>\n",
       "      <td>1</td>\n",
       "      <td>1</td>\n",
       "      <td>BATHGATE</td>\n",
       "      <td>10457</td>\n",
       "      <td>3037</td>\n",
       "      <td>110</td>\n",
       "      <td>3</td>\n",
       "      <td>0</td>\n",
       "      <td>3</td>\n",
       "      <td>1687</td>\n",
       "      <td>3037</td>\n",
       "      <td>1</td>\n",
       "      <td>C0</td>\n",
       "      <td>750000</td>\n",
       "      <td>03</td>\n",
       "      <td>12</td>\n",
       "    </tr>\n",
       "    <tr>\n",
       "      <td>2</td>\n",
       "      <td>1</td>\n",
       "      <td>BATHGATE</td>\n",
       "      <td>10457</td>\n",
       "      <td>2912</td>\n",
       "      <td>155</td>\n",
       "      <td>2</td>\n",
       "      <td>0</td>\n",
       "      <td>2</td>\n",
       "      <td>2000</td>\n",
       "      <td>2400</td>\n",
       "      <td>1</td>\n",
       "      <td>B1</td>\n",
       "      <td>470000</td>\n",
       "      <td>02</td>\n",
       "      <td>25</td>\n",
       "    </tr>\n",
       "    <tr>\n",
       "      <td>3</td>\n",
       "      <td>1</td>\n",
       "      <td>BATHGATE</td>\n",
       "      <td>10457</td>\n",
       "      <td>2929</td>\n",
       "      <td>134</td>\n",
       "      <td>2</td>\n",
       "      <td>0</td>\n",
       "      <td>2</td>\n",
       "      <td>2356</td>\n",
       "      <td>2394</td>\n",
       "      <td>1</td>\n",
       "      <td>B1</td>\n",
       "      <td>570000</td>\n",
       "      <td>02</td>\n",
       "      <td>23</td>\n",
       "    </tr>\n",
       "    <tr>\n",
       "      <td>4</td>\n",
       "      <td>1</td>\n",
       "      <td>BATHGATE</td>\n",
       "      <td>10457</td>\n",
       "      <td>3036</td>\n",
       "      <td>140</td>\n",
       "      <td>2</td>\n",
       "      <td>0</td>\n",
       "      <td>2</td>\n",
       "      <td>3346</td>\n",
       "      <td>2308</td>\n",
       "      <td>1</td>\n",
       "      <td>B1</td>\n",
       "      <td>640000</td>\n",
       "      <td>02</td>\n",
       "      <td>22</td>\n",
       "    </tr>\n",
       "  </tbody>\n",
       "</table>\n",
       "</div>"
      ],
      "text/plain": [
       "   Borough Surroundings  ZipCode  Block  Lot  NoOfResidentialUnits  \\\n",
       "0        1     BATHGATE    10456   2927  127                     2   \n",
       "1        1     BATHGATE    10457   3037  110                     3   \n",
       "2        1     BATHGATE    10457   2912  155                     2   \n",
       "3        1     BATHGATE    10457   2929  134                     2   \n",
       "4        1     BATHGATE    10457   3036  140                     2   \n",
       "\n",
       "   NoOfCommercialUnits  TotalNoOfUnits  LandAreaInSqFt  GrossAreaInSqFt  \\\n",
       "0                    0               2            1900             2394   \n",
       "1                    0               3            1687             3037   \n",
       "2                    0               2            2000             2400   \n",
       "3                    0               2            2356             2394   \n",
       "4                    0               2            3346             2308   \n",
       "\n",
       "   TaxClass_AtEvaluationTime BldgClass_AtEvaluationTime  \\\n",
       "0                          1                         B1   \n",
       "1                          1                         C0   \n",
       "2                          1                         B1   \n",
       "3                          1                         B1   \n",
       "4                          1                         B1   \n",
       "\n",
       "   PropertyEvaluationvalue bldgclass  age  \n",
       "0                   540000        02   24  \n",
       "1                   750000        03   12  \n",
       "2                   470000        02   25  \n",
       "3                   570000        02   23  \n",
       "4                   640000        02   22  "
      ]
     },
     "execution_count": 33,
     "metadata": {},
     "output_type": "execute_result"
    }
   ],
   "source": [
    "df.head()"
   ]
  },
  {
   "cell_type": "code",
   "execution_count": 34,
   "metadata": {},
   "outputs": [
    {
     "data": {
      "text/html": [
       "<div>\n",
       "<style scoped>\n",
       "    .dataframe tbody tr th:only-of-type {\n",
       "        vertical-align: middle;\n",
       "    }\n",
       "\n",
       "    .dataframe tbody tr th {\n",
       "        vertical-align: top;\n",
       "    }\n",
       "\n",
       "    .dataframe thead th {\n",
       "        text-align: right;\n",
       "    }\n",
       "</style>\n",
       "<table border=\"1\" class=\"dataframe\">\n",
       "  <thead>\n",
       "    <tr style=\"text-align: right;\">\n",
       "      <th></th>\n",
       "      <th>Borough</th>\n",
       "      <th>ZipCode</th>\n",
       "      <th>Block</th>\n",
       "      <th>Lot</th>\n",
       "      <th>NoOfResidentialUnits</th>\n",
       "      <th>NoOfCommercialUnits</th>\n",
       "      <th>TotalNoOfUnits</th>\n",
       "      <th>LandAreaInSqFt</th>\n",
       "      <th>GrossAreaInSqFt</th>\n",
       "      <th>TaxClass_AtEvaluationTime</th>\n",
       "      <th>PropertyEvaluationvalue</th>\n",
       "      <th>age</th>\n",
       "    </tr>\n",
       "  </thead>\n",
       "  <tbody>\n",
       "    <tr>\n",
       "      <td>Borough</td>\n",
       "      <td>1.000000</td>\n",
       "      <td>0.488406</td>\n",
       "      <td>0.313951</td>\n",
       "      <td>0.005866</td>\n",
       "      <td>-0.005122</td>\n",
       "      <td>-0.006849</td>\n",
       "      <td>-0.006620</td>\n",
       "      <td>0.002994</td>\n",
       "      <td>0.005231</td>\n",
       "      <td>0.003318</td>\n",
       "      <td>0.049743</td>\n",
       "      <td>0.166982</td>\n",
       "    </tr>\n",
       "    <tr>\n",
       "      <td>ZipCode</td>\n",
       "      <td>0.488406</td>\n",
       "      <td>1.000000</td>\n",
       "      <td>0.528438</td>\n",
       "      <td>-0.125573</td>\n",
       "      <td>0.014876</td>\n",
       "      <td>-0.002288</td>\n",
       "      <td>0.013504</td>\n",
       "      <td>-0.046456</td>\n",
       "      <td>-0.090817</td>\n",
       "      <td>-0.044437</td>\n",
       "      <td>-0.012603</td>\n",
       "      <td>0.259218</td>\n",
       "    </tr>\n",
       "    <tr>\n",
       "      <td>Block</td>\n",
       "      <td>0.313951</td>\n",
       "      <td>0.528438</td>\n",
       "      <td>1.000000</td>\n",
       "      <td>-0.240481</td>\n",
       "      <td>-0.008005</td>\n",
       "      <td>-0.024037</td>\n",
       "      <td>-0.013785</td>\n",
       "      <td>-0.046750</td>\n",
       "      <td>-0.083749</td>\n",
       "      <td>-0.234643</td>\n",
       "      <td>-0.186906</td>\n",
       "      <td>0.267569</td>\n",
       "    </tr>\n",
       "    <tr>\n",
       "      <td>Lot</td>\n",
       "      <td>0.005866</td>\n",
       "      <td>-0.125573</td>\n",
       "      <td>-0.240481</td>\n",
       "      <td>1.000000</td>\n",
       "      <td>-0.025278</td>\n",
       "      <td>-0.000308</td>\n",
       "      <td>-0.024030</td>\n",
       "      <td>0.234273</td>\n",
       "      <td>-0.050164</td>\n",
       "      <td>0.280392</td>\n",
       "      <td>0.207938</td>\n",
       "      <td>-0.330723</td>\n",
       "    </tr>\n",
       "    <tr>\n",
       "      <td>NoOfResidentialUnits</td>\n",
       "      <td>-0.005122</td>\n",
       "      <td>0.014876</td>\n",
       "      <td>-0.008005</td>\n",
       "      <td>-0.025278</td>\n",
       "      <td>1.000000</td>\n",
       "      <td>0.073065</td>\n",
       "      <td>0.966332</td>\n",
       "      <td>0.049807</td>\n",
       "      <td>0.467357</td>\n",
       "      <td>0.038005</td>\n",
       "      <td>0.098409</td>\n",
       "      <td>-0.006207</td>\n",
       "    </tr>\n",
       "    <tr>\n",
       "      <td>NoOfCommercialUnits</td>\n",
       "      <td>-0.006849</td>\n",
       "      <td>-0.002288</td>\n",
       "      <td>-0.024037</td>\n",
       "      <td>-0.000308</td>\n",
       "      <td>0.073065</td>\n",
       "      <td>1.000000</td>\n",
       "      <td>0.327214</td>\n",
       "      <td>0.660527</td>\n",
       "      <td>0.604961</td>\n",
       "      <td>0.219687</td>\n",
       "      <td>0.068230</td>\n",
       "      <td>-0.020932</td>\n",
       "    </tr>\n",
       "    <tr>\n",
       "      <td>TotalNoOfUnits</td>\n",
       "      <td>-0.006620</td>\n",
       "      <td>0.013504</td>\n",
       "      <td>-0.013785</td>\n",
       "      <td>-0.024030</td>\n",
       "      <td>0.966332</td>\n",
       "      <td>0.327214</td>\n",
       "      <td>1.000000</td>\n",
       "      <td>0.217598</td>\n",
       "      <td>0.598885</td>\n",
       "      <td>0.092686</td>\n",
       "      <td>0.110843</td>\n",
       "      <td>-0.011281</td>\n",
       "    </tr>\n",
       "    <tr>\n",
       "      <td>LandAreaInSqFt</td>\n",
       "      <td>0.002994</td>\n",
       "      <td>-0.046456</td>\n",
       "      <td>-0.046750</td>\n",
       "      <td>0.234273</td>\n",
       "      <td>0.049807</td>\n",
       "      <td>0.660527</td>\n",
       "      <td>0.217598</td>\n",
       "      <td>1.000000</td>\n",
       "      <td>0.465828</td>\n",
       "      <td>0.090533</td>\n",
       "      <td>0.034867</td>\n",
       "      <td>-0.016266</td>\n",
       "    </tr>\n",
       "    <tr>\n",
       "      <td>GrossAreaInSqFt</td>\n",
       "      <td>0.005231</td>\n",
       "      <td>-0.090817</td>\n",
       "      <td>-0.083749</td>\n",
       "      <td>-0.050164</td>\n",
       "      <td>0.467357</td>\n",
       "      <td>0.604961</td>\n",
       "      <td>0.598885</td>\n",
       "      <td>0.465828</td>\n",
       "      <td>1.000000</td>\n",
       "      <td>0.328519</td>\n",
       "      <td>0.068621</td>\n",
       "      <td>-0.088478</td>\n",
       "    </tr>\n",
       "    <tr>\n",
       "      <td>TaxClass_AtEvaluationTime</td>\n",
       "      <td>0.003318</td>\n",
       "      <td>-0.044437</td>\n",
       "      <td>-0.234643</td>\n",
       "      <td>0.280392</td>\n",
       "      <td>0.038005</td>\n",
       "      <td>0.219687</td>\n",
       "      <td>0.092686</td>\n",
       "      <td>0.090533</td>\n",
       "      <td>0.328519</td>\n",
       "      <td>1.000000</td>\n",
       "      <td>0.402181</td>\n",
       "      <td>-0.209335</td>\n",
       "    </tr>\n",
       "    <tr>\n",
       "      <td>PropertyEvaluationvalue</td>\n",
       "      <td>0.049743</td>\n",
       "      <td>-0.012603</td>\n",
       "      <td>-0.186906</td>\n",
       "      <td>0.207938</td>\n",
       "      <td>0.098409</td>\n",
       "      <td>0.068230</td>\n",
       "      <td>0.110843</td>\n",
       "      <td>0.034867</td>\n",
       "      <td>0.068621</td>\n",
       "      <td>0.402181</td>\n",
       "      <td>1.000000</td>\n",
       "      <td>-0.108613</td>\n",
       "    </tr>\n",
       "    <tr>\n",
       "      <td>age</td>\n",
       "      <td>0.166982</td>\n",
       "      <td>0.259218</td>\n",
       "      <td>0.267569</td>\n",
       "      <td>-0.330723</td>\n",
       "      <td>-0.006207</td>\n",
       "      <td>-0.020932</td>\n",
       "      <td>-0.011281</td>\n",
       "      <td>-0.016266</td>\n",
       "      <td>-0.088478</td>\n",
       "      <td>-0.209335</td>\n",
       "      <td>-0.108613</td>\n",
       "      <td>1.000000</td>\n",
       "    </tr>\n",
       "  </tbody>\n",
       "</table>\n",
       "</div>"
      ],
      "text/plain": [
       "                            Borough   ZipCode     Block       Lot  \\\n",
       "Borough                    1.000000  0.488406  0.313951  0.005866   \n",
       "ZipCode                    0.488406  1.000000  0.528438 -0.125573   \n",
       "Block                      0.313951  0.528438  1.000000 -0.240481   \n",
       "Lot                        0.005866 -0.125573 -0.240481  1.000000   \n",
       "NoOfResidentialUnits      -0.005122  0.014876 -0.008005 -0.025278   \n",
       "NoOfCommercialUnits       -0.006849 -0.002288 -0.024037 -0.000308   \n",
       "TotalNoOfUnits            -0.006620  0.013504 -0.013785 -0.024030   \n",
       "LandAreaInSqFt             0.002994 -0.046456 -0.046750  0.234273   \n",
       "GrossAreaInSqFt            0.005231 -0.090817 -0.083749 -0.050164   \n",
       "TaxClass_AtEvaluationTime  0.003318 -0.044437 -0.234643  0.280392   \n",
       "PropertyEvaluationvalue    0.049743 -0.012603 -0.186906  0.207938   \n",
       "age                        0.166982  0.259218  0.267569 -0.330723   \n",
       "\n",
       "                           NoOfResidentialUnits  NoOfCommercialUnits  \\\n",
       "Borough                               -0.005122            -0.006849   \n",
       "ZipCode                                0.014876            -0.002288   \n",
       "Block                                 -0.008005            -0.024037   \n",
       "Lot                                   -0.025278            -0.000308   \n",
       "NoOfResidentialUnits                   1.000000             0.073065   \n",
       "NoOfCommercialUnits                    0.073065             1.000000   \n",
       "TotalNoOfUnits                         0.966332             0.327214   \n",
       "LandAreaInSqFt                         0.049807             0.660527   \n",
       "GrossAreaInSqFt                        0.467357             0.604961   \n",
       "TaxClass_AtEvaluationTime              0.038005             0.219687   \n",
       "PropertyEvaluationvalue                0.098409             0.068230   \n",
       "age                                   -0.006207            -0.020932   \n",
       "\n",
       "                           TotalNoOfUnits  LandAreaInSqFt  GrossAreaInSqFt  \\\n",
       "Borough                         -0.006620        0.002994         0.005231   \n",
       "ZipCode                          0.013504       -0.046456        -0.090817   \n",
       "Block                           -0.013785       -0.046750        -0.083749   \n",
       "Lot                             -0.024030        0.234273        -0.050164   \n",
       "NoOfResidentialUnits             0.966332        0.049807         0.467357   \n",
       "NoOfCommercialUnits              0.327214        0.660527         0.604961   \n",
       "TotalNoOfUnits                   1.000000        0.217598         0.598885   \n",
       "LandAreaInSqFt                   0.217598        1.000000         0.465828   \n",
       "GrossAreaInSqFt                  0.598885        0.465828         1.000000   \n",
       "TaxClass_AtEvaluationTime        0.092686        0.090533         0.328519   \n",
       "PropertyEvaluationvalue          0.110843        0.034867         0.068621   \n",
       "age                             -0.011281       -0.016266        -0.088478   \n",
       "\n",
       "                           TaxClass_AtEvaluationTime  PropertyEvaluationvalue  \\\n",
       "Borough                                     0.003318                 0.049743   \n",
       "ZipCode                                    -0.044437                -0.012603   \n",
       "Block                                      -0.234643                -0.186906   \n",
       "Lot                                         0.280392                 0.207938   \n",
       "NoOfResidentialUnits                        0.038005                 0.098409   \n",
       "NoOfCommercialUnits                         0.219687                 0.068230   \n",
       "TotalNoOfUnits                              0.092686                 0.110843   \n",
       "LandAreaInSqFt                              0.090533                 0.034867   \n",
       "GrossAreaInSqFt                             0.328519                 0.068621   \n",
       "TaxClass_AtEvaluationTime                   1.000000                 0.402181   \n",
       "PropertyEvaluationvalue                     0.402181                 1.000000   \n",
       "age                                        -0.209335                -0.108613   \n",
       "\n",
       "                                age  \n",
       "Borough                    0.166982  \n",
       "ZipCode                    0.259218  \n",
       "Block                      0.267569  \n",
       "Lot                       -0.330723  \n",
       "NoOfResidentialUnits      -0.006207  \n",
       "NoOfCommercialUnits       -0.020932  \n",
       "TotalNoOfUnits            -0.011281  \n",
       "LandAreaInSqFt            -0.016266  \n",
       "GrossAreaInSqFt           -0.088478  \n",
       "TaxClass_AtEvaluationTime -0.209335  \n",
       "PropertyEvaluationvalue   -0.108613  \n",
       "age                        1.000000  "
      ]
     },
     "execution_count": 34,
     "metadata": {},
     "output_type": "execute_result"
    }
   ],
   "source": [
    "df.corr()"
   ]
  },
  {
   "cell_type": "code",
   "execution_count": 35,
   "metadata": {},
   "outputs": [],
   "source": [
    "df.drop(['ZipCode'],axis=1,inplace=True)\n",
    "df2.drop(['ZipCode'],axis=1,inplace=True)"
   ]
  },
  {
   "cell_type": "code",
   "execution_count": 36,
   "metadata": {},
   "outputs": [
    {
     "data": {
      "text/plain": [
       "((16810, 14), (2936, 13))"
      ]
     },
     "execution_count": 36,
     "metadata": {},
     "output_type": "execute_result"
    }
   ],
   "source": [
    "df.shape,df2.shape"
   ]
  },
  {
   "cell_type": "code",
   "execution_count": 37,
   "metadata": {},
   "outputs": [
    {
     "name": "stderr",
     "output_type": "stream",
     "text": [
      "C:\\Users\\SivaKumar\\Anaconda3\\lib\\site-packages\\ipykernel_launcher.py:1: SettingWithCopyWarning: \n",
      "A value is trying to be set on a copy of a slice from a DataFrame\n",
      "\n",
      "See the caveats in the documentation: http://pandas.pydata.org/pandas-docs/stable/user_guide/indexing.html#returning-a-view-versus-a-copy\n",
      "  \"\"\"Entry point for launching an IPython kernel.\n",
      "C:\\Users\\SivaKumar\\Anaconda3\\lib\\site-packages\\ipykernel_launcher.py:2: SettingWithCopyWarning: \n",
      "A value is trying to be set on a copy of a slice from a DataFrame\n",
      "\n",
      "See the caveats in the documentation: http://pandas.pydata.org/pandas-docs/stable/user_guide/indexing.html#returning-a-view-versus-a-copy\n",
      "  \n",
      "C:\\Users\\SivaKumar\\Anaconda3\\lib\\site-packages\\ipykernel_launcher.py:3: SettingWithCopyWarning: \n",
      "A value is trying to be set on a copy of a slice from a DataFrame\n",
      "\n",
      "See the caveats in the documentation: http://pandas.pydata.org/pandas-docs/stable/user_guide/indexing.html#returning-a-view-versus-a-copy\n",
      "  This is separate from the ipykernel package so we can avoid doing imports until\n"
     ]
    }
   ],
   "source": [
    "df.Lot[(df.Lot>0)&(df.Lot<=1000)]=1\n",
    "df.Lot[(df.Lot>=1001)&(df.Lot<=2000)]=2\n",
    "df.Lot[(df.Lot>2001)]=3"
   ]
  },
  {
   "cell_type": "code",
   "execution_count": 38,
   "metadata": {},
   "outputs": [
    {
     "name": "stderr",
     "output_type": "stream",
     "text": [
      "C:\\Users\\SivaKumar\\Anaconda3\\lib\\site-packages\\ipykernel_launcher.py:1: SettingWithCopyWarning: \n",
      "A value is trying to be set on a copy of a slice from a DataFrame\n",
      "\n",
      "See the caveats in the documentation: http://pandas.pydata.org/pandas-docs/stable/user_guide/indexing.html#returning-a-view-versus-a-copy\n",
      "  \"\"\"Entry point for launching an IPython kernel.\n",
      "C:\\Users\\SivaKumar\\Anaconda3\\lib\\site-packages\\ipykernel_launcher.py:2: SettingWithCopyWarning: \n",
      "A value is trying to be set on a copy of a slice from a DataFrame\n",
      "\n",
      "See the caveats in the documentation: http://pandas.pydata.org/pandas-docs/stable/user_guide/indexing.html#returning-a-view-versus-a-copy\n",
      "  \n",
      "C:\\Users\\SivaKumar\\Anaconda3\\lib\\site-packages\\ipykernel_launcher.py:3: SettingWithCopyWarning: \n",
      "A value is trying to be set on a copy of a slice from a DataFrame\n",
      "\n",
      "See the caveats in the documentation: http://pandas.pydata.org/pandas-docs/stable/user_guide/indexing.html#returning-a-view-versus-a-copy\n",
      "  This is separate from the ipykernel package so we can avoid doing imports until\n"
     ]
    }
   ],
   "source": [
    "df2.Lot[(df2.Lot>0)&(df2.Lot<=1000)]=1\n",
    "df2.Lot[(df2.Lot>=1001)&(df2.Lot<=2000)]=2\n",
    "df2.Lot[(df2.Lot>2001)]=3"
   ]
  },
  {
   "cell_type": "code",
   "execution_count": 39,
   "metadata": {},
   "outputs": [],
   "source": [
    "df.drop(['Block'],axis=1,inplace=True)"
   ]
  },
  {
   "cell_type": "code",
   "execution_count": 40,
   "metadata": {},
   "outputs": [],
   "source": [
    "df2.drop(['Block'],axis=1,inplace=True)"
   ]
  },
  {
   "cell_type": "code",
   "execution_count": 41,
   "metadata": {},
   "outputs": [],
   "source": [
    "x = df.copy().drop(\"PropertyEvaluationvalue\",axis=1)\n",
    "y = df[\"PropertyEvaluationvalue\"]"
   ]
  },
  {
   "cell_type": "code",
   "execution_count": 42,
   "metadata": {},
   "outputs": [],
   "source": [
    "x_train, x_val, y_train, y_val = train_test_split(x,y,test_size = 0.2, random_state = 200)"
   ]
  },
  {
   "cell_type": "code",
   "execution_count": 43,
   "metadata": {},
   "outputs": [
    {
     "data": {
      "text/plain": [
       "((13448, 12), (3362, 12), (13448,), (3362,))"
      ]
     },
     "execution_count": 43,
     "metadata": {},
     "output_type": "execute_result"
    }
   ],
   "source": [
    "x_train.shape, x_val.shape, y_train.shape, y_val.shape"
   ]
  },
  {
   "cell_type": "code",
   "execution_count": 50,
   "metadata": {},
   "outputs": [
    {
     "name": "stderr",
     "output_type": "stream",
     "text": [
      "C:\\Users\\SivaKumar\\Anaconda3\\lib\\site-packages\\ipykernel_launcher.py:2: SettingWithCopyWarning: \n",
      "A value is trying to be set on a copy of a slice from a DataFrame.\n",
      "Try using .loc[row_indexer,col_indexer] = value instead\n",
      "\n",
      "See the caveats in the documentation: http://pandas.pydata.org/pandas-docs/stable/user_guide/indexing.html#returning-a-view-versus-a-copy\n",
      "  \n"
     ]
    }
   ],
   "source": [
    "for cols in [\"Surroundings\",\"BldgClass_AtEvaluationTime\",\"bldgclass\",\"Lot\"]:\n",
    "    x_train[cols] = x_train[cols].astype('category')"
   ]
  },
  {
   "cell_type": "code",
   "execution_count": 51,
   "metadata": {},
   "outputs": [
    {
     "name": "stderr",
     "output_type": "stream",
     "text": [
      "C:\\Users\\SivaKumar\\Anaconda3\\lib\\site-packages\\ipykernel_launcher.py:2: SettingWithCopyWarning: \n",
      "A value is trying to be set on a copy of a slice from a DataFrame.\n",
      "Try using .loc[row_indexer,col_indexer] = value instead\n",
      "\n",
      "See the caveats in the documentation: http://pandas.pydata.org/pandas-docs/stable/user_guide/indexing.html#returning-a-view-versus-a-copy\n",
      "  \n"
     ]
    }
   ],
   "source": [
    "for cols in [\"Surroundings\",\"BldgClass_AtEvaluationTime\",\"bldgclass\",\"Lot\"]:\n",
    "    x_val[cols] = x_val[cols].astype('category')"
   ]
  },
  {
   "cell_type": "code",
   "execution_count": 52,
   "metadata": {},
   "outputs": [],
   "source": [
    "for cols in [\"Surroundings\",\"BldgClass_AtEvaluationTime\",\"bldgclass\",\"Lot\"]:\n",
    "    df2[cols] = df2[cols].astype('category')"
   ]
  },
  {
   "cell_type": "code",
   "execution_count": 53,
   "metadata": {},
   "outputs": [
    {
     "data": {
      "text/plain": [
       "Borough                          int64\n",
       "Surroundings                  category\n",
       "Lot                           category\n",
       "NoOfResidentialUnits             int64\n",
       "NoOfCommercialUnits              int64\n",
       "TotalNoOfUnits                   int64\n",
       "LandAreaInSqFt                   int64\n",
       "GrossAreaInSqFt                  int64\n",
       "TaxClass_AtEvaluationTime        int64\n",
       "BldgClass_AtEvaluationTime    category\n",
       "bldgclass                     category\n",
       "age                              int64\n",
       "dtype: object"
      ]
     },
     "execution_count": 53,
     "metadata": {},
     "output_type": "execute_result"
    }
   ],
   "source": [
    "x_train.dtypes"
   ]
  },
  {
   "cell_type": "code",
   "execution_count": 48,
   "metadata": {},
   "outputs": [
    {
     "data": {
      "text/html": [
       "<div>\n",
       "<style scoped>\n",
       "    .dataframe tbody tr th:only-of-type {\n",
       "        vertical-align: middle;\n",
       "    }\n",
       "\n",
       "    .dataframe tbody tr th {\n",
       "        vertical-align: top;\n",
       "    }\n",
       "\n",
       "    .dataframe thead th {\n",
       "        text-align: right;\n",
       "    }\n",
       "</style>\n",
       "<table border=\"1\" class=\"dataframe\">\n",
       "  <thead>\n",
       "    <tr style=\"text-align: right;\">\n",
       "      <th></th>\n",
       "      <th>Borough</th>\n",
       "      <th>Surroundings</th>\n",
       "      <th>Lot</th>\n",
       "      <th>NoOfResidentialUnits</th>\n",
       "      <th>NoOfCommercialUnits</th>\n",
       "      <th>TotalNoOfUnits</th>\n",
       "      <th>LandAreaInSqFt</th>\n",
       "      <th>GrossAreaInSqFt</th>\n",
       "      <th>TaxClass_AtEvaluationTime</th>\n",
       "      <th>BldgClass_AtEvaluationTime</th>\n",
       "      <th>bldgclass</th>\n",
       "      <th>age</th>\n",
       "    </tr>\n",
       "  </thead>\n",
       "  <tbody>\n",
       "    <tr>\n",
       "      <td>4487</td>\n",
       "      <td>5</td>\n",
       "      <td>SUNNYSIDE</td>\n",
       "      <td>1</td>\n",
       "      <td>2</td>\n",
       "      <td>0</td>\n",
       "      <td>2</td>\n",
       "      <td>1440</td>\n",
       "      <td>1740</td>\n",
       "      <td>1</td>\n",
       "      <td>B3</td>\n",
       "      <td>02</td>\n",
       "      <td>63</td>\n",
       "    </tr>\n",
       "    <tr>\n",
       "      <td>11394</td>\n",
       "      <td>4</td>\n",
       "      <td>LOWER EAST SIDE</td>\n",
       "      <td>1</td>\n",
       "      <td>0</td>\n",
       "      <td>1</td>\n",
       "      <td>1</td>\n",
       "      <td>2128</td>\n",
       "      <td>5850</td>\n",
       "      <td>4</td>\n",
       "      <td>K9</td>\n",
       "      <td>22</td>\n",
       "      <td>41</td>\n",
       "    </tr>\n",
       "    <tr>\n",
       "      <td>3776</td>\n",
       "      <td>3</td>\n",
       "      <td>WILLOWBROOK</td>\n",
       "      <td>1</td>\n",
       "      <td>2</td>\n",
       "      <td>0</td>\n",
       "      <td>2</td>\n",
       "      <td>4400</td>\n",
       "      <td>2528</td>\n",
       "      <td>1</td>\n",
       "      <td>B1</td>\n",
       "      <td>02</td>\n",
       "      <td>53</td>\n",
       "    </tr>\n",
       "    <tr>\n",
       "      <td>10592</td>\n",
       "      <td>5</td>\n",
       "      <td>REGO PARK</td>\n",
       "      <td>2</td>\n",
       "      <td>1</td>\n",
       "      <td>0</td>\n",
       "      <td>1</td>\n",
       "      <td>10000</td>\n",
       "      <td>633</td>\n",
       "      <td>2</td>\n",
       "      <td>R4</td>\n",
       "      <td>13</td>\n",
       "      <td>2</td>\n",
       "    </tr>\n",
       "    <tr>\n",
       "      <td>11225</td>\n",
       "      <td>4</td>\n",
       "      <td>UPPER WEST SIDE (59-79)</td>\n",
       "      <td>3</td>\n",
       "      <td>1</td>\n",
       "      <td>0</td>\n",
       "      <td>1</td>\n",
       "      <td>72099</td>\n",
       "      <td>2457</td>\n",
       "      <td>2</td>\n",
       "      <td>R4</td>\n",
       "      <td>13</td>\n",
       "      <td>4</td>\n",
       "    </tr>\n",
       "  </tbody>\n",
       "</table>\n",
       "</div>"
      ],
      "text/plain": [
       "       Borough             Surroundings  Lot  NoOfResidentialUnits  \\\n",
       "4487         5                SUNNYSIDE    1                     2   \n",
       "11394        4          LOWER EAST SIDE    1                     0   \n",
       "3776         3              WILLOWBROOK    1                     2   \n",
       "10592        5                REGO PARK    2                     1   \n",
       "11225        4  UPPER WEST SIDE (59-79)    3                     1   \n",
       "\n",
       "       NoOfCommercialUnits  TotalNoOfUnits  LandAreaInSqFt  GrossAreaInSqFt  \\\n",
       "4487                     0               2            1440             1740   \n",
       "11394                    1               1            2128             5850   \n",
       "3776                     0               2            4400             2528   \n",
       "10592                    0               1           10000              633   \n",
       "11225                    0               1           72099             2457   \n",
       "\n",
       "       TaxClass_AtEvaluationTime BldgClass_AtEvaluationTime bldgclass  age  \n",
       "4487                           1                         B3        02   63  \n",
       "11394                          4                         K9        22   41  \n",
       "3776                           1                         B1        02   53  \n",
       "10592                          2                         R4        13    2  \n",
       "11225                          2                         R4        13    4  "
      ]
     },
     "execution_count": 48,
     "metadata": {},
     "output_type": "execute_result"
    }
   ],
   "source": [
    "x_train.head()"
   ]
  },
  {
   "cell_type": "code",
   "execution_count": 55,
   "metadata": {},
   "outputs": [
    {
     "name": "stderr",
     "output_type": "stream",
     "text": [
      "C:\\Users\\SivaKumar\\Anaconda3\\lib\\site-packages\\ipykernel_launcher.py:2: SettingWithCopyWarning: \n",
      "A value is trying to be set on a copy of a slice from a DataFrame.\n",
      "Try using .loc[row_indexer,col_indexer] = value instead\n",
      "\n",
      "See the caveats in the documentation: http://pandas.pydata.org/pandas-docs/stable/user_guide/indexing.html#returning-a-view-versus-a-copy\n",
      "  \n"
     ]
    }
   ],
   "source": [
    "for i in ['Surroundings','BldgClass_AtEvaluationTime','bldgclass']:\n",
    "    x_train[i]=x_train[i].cat.codes"
   ]
  },
  {
   "cell_type": "code",
   "execution_count": 56,
   "metadata": {},
   "outputs": [
    {
     "name": "stderr",
     "output_type": "stream",
     "text": [
      "C:\\Users\\SivaKumar\\Anaconda3\\lib\\site-packages\\ipykernel_launcher.py:2: SettingWithCopyWarning: \n",
      "A value is trying to be set on a copy of a slice from a DataFrame.\n",
      "Try using .loc[row_indexer,col_indexer] = value instead\n",
      "\n",
      "See the caveats in the documentation: http://pandas.pydata.org/pandas-docs/stable/user_guide/indexing.html#returning-a-view-versus-a-copy\n",
      "  \n"
     ]
    }
   ],
   "source": [
    "for i in ['Surroundings','BldgClass_AtEvaluationTime','bldgclass']:\n",
    "    x_val[i]=x_val[i].cat.codes"
   ]
  },
  {
   "cell_type": "code",
   "execution_count": 57,
   "metadata": {},
   "outputs": [],
   "source": [
    "for i in ['Surroundings','BldgClass_AtEvaluationTime','bldgclass']:\n",
    "    df2[i]=df2[i].cat.codes"
   ]
  },
  {
   "cell_type": "code",
   "execution_count": 60,
   "metadata": {},
   "outputs": [],
   "source": [
    "x_train=pd.get_dummies(x_train,prefix=['Lot'])"
   ]
  },
  {
   "cell_type": "code",
   "execution_count": 66,
   "metadata": {},
   "outputs": [
    {
     "data": {
      "text/html": [
       "<div>\n",
       "<style scoped>\n",
       "    .dataframe tbody tr th:only-of-type {\n",
       "        vertical-align: middle;\n",
       "    }\n",
       "\n",
       "    .dataframe tbody tr th {\n",
       "        vertical-align: top;\n",
       "    }\n",
       "\n",
       "    .dataframe thead th {\n",
       "        text-align: right;\n",
       "    }\n",
       "</style>\n",
       "<table border=\"1\" class=\"dataframe\">\n",
       "  <thead>\n",
       "    <tr style=\"text-align: right;\">\n",
       "      <th></th>\n",
       "      <th>Borough</th>\n",
       "      <th>Surroundings</th>\n",
       "      <th>NoOfResidentialUnits</th>\n",
       "      <th>NoOfCommercialUnits</th>\n",
       "      <th>TotalNoOfUnits</th>\n",
       "      <th>LandAreaInSqFt</th>\n",
       "      <th>GrossAreaInSqFt</th>\n",
       "      <th>TaxClass_AtEvaluationTime</th>\n",
       "      <th>BldgClass_AtEvaluationTime</th>\n",
       "      <th>bldgclass</th>\n",
       "      <th>age</th>\n",
       "      <th>Lot_1</th>\n",
       "      <th>Lot_2</th>\n",
       "      <th>Lot_3</th>\n",
       "    </tr>\n",
       "  </thead>\n",
       "  <tbody>\n",
       "    <tr>\n",
       "      <td>8717</td>\n",
       "      <td>5</td>\n",
       "      <td>97</td>\n",
       "      <td>1</td>\n",
       "      <td>0</td>\n",
       "      <td>1</td>\n",
       "      <td>11138</td>\n",
       "      <td>3020</td>\n",
       "      <td>1</td>\n",
       "      <td>2</td>\n",
       "      <td>0</td>\n",
       "      <td>68</td>\n",
       "      <td>1</td>\n",
       "      <td>0</td>\n",
       "      <td>0</td>\n",
       "    </tr>\n",
       "    <tr>\n",
       "      <td>5992</td>\n",
       "      <td>3</td>\n",
       "      <td>217</td>\n",
       "      <td>2</td>\n",
       "      <td>0</td>\n",
       "      <td>2</td>\n",
       "      <td>6174</td>\n",
       "      <td>3520</td>\n",
       "      <td>1</td>\n",
       "      <td>9</td>\n",
       "      <td>1</td>\n",
       "      <td>1</td>\n",
       "      <td>1</td>\n",
       "      <td>0</td>\n",
       "      <td>0</td>\n",
       "    </tr>\n",
       "    <tr>\n",
       "      <td>13059</td>\n",
       "      <td>1</td>\n",
       "      <td>10</td>\n",
       "      <td>2</td>\n",
       "      <td>0</td>\n",
       "      <td>2</td>\n",
       "      <td>2106</td>\n",
       "      <td>1890</td>\n",
       "      <td>1</td>\n",
       "      <td>10</td>\n",
       "      <td>1</td>\n",
       "      <td>68</td>\n",
       "      <td>1</td>\n",
       "      <td>0</td>\n",
       "      <td>0</td>\n",
       "    </tr>\n",
       "    <tr>\n",
       "      <td>2373</td>\n",
       "      <td>5</td>\n",
       "      <td>186</td>\n",
       "      <td>1</td>\n",
       "      <td>0</td>\n",
       "      <td>1</td>\n",
       "      <td>3432</td>\n",
       "      <td>960</td>\n",
       "      <td>1</td>\n",
       "      <td>2</td>\n",
       "      <td>0</td>\n",
       "      <td>69</td>\n",
       "      <td>1</td>\n",
       "      <td>0</td>\n",
       "      <td>0</td>\n",
       "    </tr>\n",
       "    <tr>\n",
       "      <td>2454</td>\n",
       "      <td>5</td>\n",
       "      <td>186</td>\n",
       "      <td>0</td>\n",
       "      <td>1</td>\n",
       "      <td>1</td>\n",
       "      <td>10600</td>\n",
       "      <td>1785</td>\n",
       "      <td>4</td>\n",
       "      <td>37</td>\n",
       "      <td>18</td>\n",
       "      <td>47</td>\n",
       "      <td>1</td>\n",
       "      <td>0</td>\n",
       "      <td>0</td>\n",
       "    </tr>\n",
       "  </tbody>\n",
       "</table>\n",
       "</div>"
      ],
      "text/plain": [
       "       Borough  Surroundings  NoOfResidentialUnits  NoOfCommercialUnits  \\\n",
       "8717         5            97                     1                    0   \n",
       "5992         3           217                     2                    0   \n",
       "13059        1            10                     2                    0   \n",
       "2373         5           186                     1                    0   \n",
       "2454         5           186                     0                    1   \n",
       "\n",
       "       TotalNoOfUnits  LandAreaInSqFt  GrossAreaInSqFt  \\\n",
       "8717                1           11138             3020   \n",
       "5992                2            6174             3520   \n",
       "13059               2            2106             1890   \n",
       "2373                1            3432              960   \n",
       "2454                1           10600             1785   \n",
       "\n",
       "       TaxClass_AtEvaluationTime  BldgClass_AtEvaluationTime  bldgclass  age  \\\n",
       "8717                           1                           2          0   68   \n",
       "5992                           1                           9          1    1   \n",
       "13059                          1                          10          1   68   \n",
       "2373                           1                           2          0   69   \n",
       "2454                           4                          37         18   47   \n",
       "\n",
       "       Lot_1  Lot_2  Lot_3  \n",
       "8717       1      0      0  \n",
       "5992       1      0      0  \n",
       "13059      1      0      0  \n",
       "2373       1      0      0  \n",
       "2454       1      0      0  "
      ]
     },
     "execution_count": 66,
     "metadata": {},
     "output_type": "execute_result"
    }
   ],
   "source": [
    "x_val.head()"
   ]
  },
  {
   "cell_type": "code",
   "execution_count": 64,
   "metadata": {},
   "outputs": [
    {
     "ename": "ValueError",
     "evalue": "Length of 'prefix' (1) did not match the length of the columns being encoded (0).",
     "output_type": "error",
     "traceback": [
      "\u001b[1;31m---------------------------------------------------------------------------\u001b[0m",
      "\u001b[1;31mValueError\u001b[0m                                Traceback (most recent call last)",
      "\u001b[1;32m<ipython-input-64-3ae6040edaa0>\u001b[0m in \u001b[0;36m<module>\u001b[1;34m\u001b[0m\n\u001b[1;32m----> 1\u001b[1;33m \u001b[0mx_val\u001b[0m\u001b[1;33m=\u001b[0m\u001b[0mpd\u001b[0m\u001b[1;33m.\u001b[0m\u001b[0mget_dummies\u001b[0m\u001b[1;33m(\u001b[0m\u001b[0mx_val\u001b[0m\u001b[1;33m,\u001b[0m\u001b[0mprefix\u001b[0m\u001b[1;33m=\u001b[0m\u001b[1;33m[\u001b[0m\u001b[1;34m'Lot'\u001b[0m\u001b[1;33m]\u001b[0m\u001b[1;33m)\u001b[0m\u001b[1;33m\u001b[0m\u001b[1;33m\u001b[0m\u001b[0m\n\u001b[0m",
      "\u001b[1;32m~\\Anaconda3\\lib\\site-packages\\pandas\\core\\reshape\\reshape.py\u001b[0m in \u001b[0;36mget_dummies\u001b[1;34m(data, prefix, prefix_sep, dummy_na, columns, sparse, drop_first, dtype)\u001b[0m\n\u001b[0;32m    886\u001b[0m                     \u001b[1;32mraise\u001b[0m \u001b[0mValueError\u001b[0m\u001b[1;33m(\u001b[0m\u001b[0mlen_msg\u001b[0m\u001b[1;33m)\u001b[0m\u001b[1;33m\u001b[0m\u001b[1;33m\u001b[0m\u001b[0m\n\u001b[0;32m    887\u001b[0m \u001b[1;33m\u001b[0m\u001b[0m\n\u001b[1;32m--> 888\u001b[1;33m         \u001b[0mcheck_len\u001b[0m\u001b[1;33m(\u001b[0m\u001b[0mprefix\u001b[0m\u001b[1;33m,\u001b[0m \u001b[1;34m\"prefix\"\u001b[0m\u001b[1;33m)\u001b[0m\u001b[1;33m\u001b[0m\u001b[1;33m\u001b[0m\u001b[0m\n\u001b[0m\u001b[0;32m    889\u001b[0m         \u001b[0mcheck_len\u001b[0m\u001b[1;33m(\u001b[0m\u001b[0mprefix_sep\u001b[0m\u001b[1;33m,\u001b[0m \u001b[1;34m\"prefix_sep\"\u001b[0m\u001b[1;33m)\u001b[0m\u001b[1;33m\u001b[0m\u001b[1;33m\u001b[0m\u001b[0m\n\u001b[0;32m    890\u001b[0m \u001b[1;33m\u001b[0m\u001b[0m\n",
      "\u001b[1;32m~\\Anaconda3\\lib\\site-packages\\pandas\\core\\reshape\\reshape.py\u001b[0m in \u001b[0;36mcheck_len\u001b[1;34m(item, name)\u001b[0m\n\u001b[0;32m    884\u001b[0m                         \u001b[0mname\u001b[0m\u001b[1;33m=\u001b[0m\u001b[0mname\u001b[0m\u001b[1;33m,\u001b[0m \u001b[0mlen_item\u001b[0m\u001b[1;33m=\u001b[0m\u001b[0mlen\u001b[0m\u001b[1;33m(\u001b[0m\u001b[0mitem\u001b[0m\u001b[1;33m)\u001b[0m\u001b[1;33m,\u001b[0m \u001b[0mlen_enc\u001b[0m\u001b[1;33m=\u001b[0m\u001b[0mdata_to_encode\u001b[0m\u001b[1;33m.\u001b[0m\u001b[0mshape\u001b[0m\u001b[1;33m[\u001b[0m\u001b[1;36m1\u001b[0m\u001b[1;33m]\u001b[0m\u001b[1;33m\u001b[0m\u001b[1;33m\u001b[0m\u001b[0m\n\u001b[0;32m    885\u001b[0m                     )\n\u001b[1;32m--> 886\u001b[1;33m                     \u001b[1;32mraise\u001b[0m \u001b[0mValueError\u001b[0m\u001b[1;33m(\u001b[0m\u001b[0mlen_msg\u001b[0m\u001b[1;33m)\u001b[0m\u001b[1;33m\u001b[0m\u001b[1;33m\u001b[0m\u001b[0m\n\u001b[0m\u001b[0;32m    887\u001b[0m \u001b[1;33m\u001b[0m\u001b[0m\n\u001b[0;32m    888\u001b[0m         \u001b[0mcheck_len\u001b[0m\u001b[1;33m(\u001b[0m\u001b[0mprefix\u001b[0m\u001b[1;33m,\u001b[0m \u001b[1;34m\"prefix\"\u001b[0m\u001b[1;33m)\u001b[0m\u001b[1;33m\u001b[0m\u001b[1;33m\u001b[0m\u001b[0m\n",
      "\u001b[1;31mValueError\u001b[0m: Length of 'prefix' (1) did not match the length of the columns being encoded (0)."
     ]
    }
   ],
   "source": [
    "x_val=pd.get_dummies(x_val,prefix=['Lot'])"
   ]
  },
  {
   "cell_type": "code",
   "execution_count": 67,
   "metadata": {},
   "outputs": [],
   "source": [
    "df2=pd.get_dummies(df2,prefix=['Lot'])"
   ]
  },
  {
   "cell_type": "code",
   "execution_count": null,
   "metadata": {},
   "outputs": [],
   "source": [
    "#cat_cols=x_train.select_dtypes(include=['category']).columns"
   ]
  },
  {
   "cell_type": "code",
   "execution_count": null,
   "metadata": {},
   "outputs": [],
   "source": [
    "#x_train=pd.get_dummies(columns=cat_cols, data=x_train, prefix=cat_cols, prefix_sep=\"_\", drop_first=True)"
   ]
  },
  {
   "cell_type": "code",
   "execution_count": null,
   "metadata": {},
   "outputs": [],
   "source": [
    "#x_val=pd.get_dummies(columns=cat_cols, data=x_val, prefix=cat_cols, prefix_sep=\"_\", drop_first=True)"
   ]
  },
  {
   "cell_type": "code",
   "execution_count": 68,
   "metadata": {},
   "outputs": [
    {
     "data": {
      "text/html": [
       "<div>\n",
       "<style scoped>\n",
       "    .dataframe tbody tr th:only-of-type {\n",
       "        vertical-align: middle;\n",
       "    }\n",
       "\n",
       "    .dataframe tbody tr th {\n",
       "        vertical-align: top;\n",
       "    }\n",
       "\n",
       "    .dataframe thead th {\n",
       "        text-align: right;\n",
       "    }\n",
       "</style>\n",
       "<table border=\"1\" class=\"dataframe\">\n",
       "  <thead>\n",
       "    <tr style=\"text-align: right;\">\n",
       "      <th></th>\n",
       "      <th>Borough</th>\n",
       "      <th>Surroundings</th>\n",
       "      <th>NoOfResidentialUnits</th>\n",
       "      <th>NoOfCommercialUnits</th>\n",
       "      <th>TotalNoOfUnits</th>\n",
       "      <th>LandAreaInSqFt</th>\n",
       "      <th>GrossAreaInSqFt</th>\n",
       "      <th>TaxClass_AtEvaluationTime</th>\n",
       "      <th>BldgClass_AtEvaluationTime</th>\n",
       "      <th>bldgclass</th>\n",
       "      <th>age</th>\n",
       "      <th>Lot_1</th>\n",
       "      <th>Lot_2</th>\n",
       "      <th>Lot_3</th>\n",
       "    </tr>\n",
       "  </thead>\n",
       "  <tbody>\n",
       "    <tr>\n",
       "      <td>4487</td>\n",
       "      <td>5</td>\n",
       "      <td>209</td>\n",
       "      <td>2</td>\n",
       "      <td>0</td>\n",
       "      <td>2</td>\n",
       "      <td>1440</td>\n",
       "      <td>1740</td>\n",
       "      <td>1</td>\n",
       "      <td>11</td>\n",
       "      <td>1</td>\n",
       "      <td>63</td>\n",
       "      <td>1</td>\n",
       "      <td>0</td>\n",
       "      <td>0</td>\n",
       "    </tr>\n",
       "    <tr>\n",
       "      <td>11394</td>\n",
       "      <td>4</td>\n",
       "      <td>130</td>\n",
       "      <td>0</td>\n",
       "      <td>1</td>\n",
       "      <td>1</td>\n",
       "      <td>2128</td>\n",
       "      <td>5850</td>\n",
       "      <td>4</td>\n",
       "      <td>59</td>\n",
       "      <td>16</td>\n",
       "      <td>41</td>\n",
       "      <td>1</td>\n",
       "      <td>0</td>\n",
       "      <td>0</td>\n",
       "    </tr>\n",
       "    <tr>\n",
       "      <td>3776</td>\n",
       "      <td>3</td>\n",
       "      <td>235</td>\n",
       "      <td>2</td>\n",
       "      <td>0</td>\n",
       "      <td>2</td>\n",
       "      <td>4400</td>\n",
       "      <td>2528</td>\n",
       "      <td>1</td>\n",
       "      <td>9</td>\n",
       "      <td>1</td>\n",
       "      <td>53</td>\n",
       "      <td>1</td>\n",
       "      <td>0</td>\n",
       "      <td>0</td>\n",
       "    </tr>\n",
       "    <tr>\n",
       "      <td>10592</td>\n",
       "      <td>5</td>\n",
       "      <td>180</td>\n",
       "      <td>1</td>\n",
       "      <td>0</td>\n",
       "      <td>1</td>\n",
       "      <td>10000</td>\n",
       "      <td>633</td>\n",
       "      <td>2</td>\n",
       "      <td>78</td>\n",
       "      <td>11</td>\n",
       "      <td>2</td>\n",
       "      <td>0</td>\n",
       "      <td>1</td>\n",
       "      <td>0</td>\n",
       "    </tr>\n",
       "    <tr>\n",
       "      <td>11225</td>\n",
       "      <td>4</td>\n",
       "      <td>220</td>\n",
       "      <td>1</td>\n",
       "      <td>0</td>\n",
       "      <td>1</td>\n",
       "      <td>72099</td>\n",
       "      <td>2457</td>\n",
       "      <td>2</td>\n",
       "      <td>78</td>\n",
       "      <td>11</td>\n",
       "      <td>4</td>\n",
       "      <td>0</td>\n",
       "      <td>0</td>\n",
       "      <td>1</td>\n",
       "    </tr>\n",
       "  </tbody>\n",
       "</table>\n",
       "</div>"
      ],
      "text/plain": [
       "       Borough  Surroundings  NoOfResidentialUnits  NoOfCommercialUnits  \\\n",
       "4487         5           209                     2                    0   \n",
       "11394        4           130                     0                    1   \n",
       "3776         3           235                     2                    0   \n",
       "10592        5           180                     1                    0   \n",
       "11225        4           220                     1                    0   \n",
       "\n",
       "       TotalNoOfUnits  LandAreaInSqFt  GrossAreaInSqFt  \\\n",
       "4487                2            1440             1740   \n",
       "11394               1            2128             5850   \n",
       "3776                2            4400             2528   \n",
       "10592               1           10000              633   \n",
       "11225               1           72099             2457   \n",
       "\n",
       "       TaxClass_AtEvaluationTime  BldgClass_AtEvaluationTime  bldgclass  age  \\\n",
       "4487                           1                          11          1   63   \n",
       "11394                          4                          59         16   41   \n",
       "3776                           1                           9          1   53   \n",
       "10592                          2                          78         11    2   \n",
       "11225                          2                          78         11    4   \n",
       "\n",
       "       Lot_1  Lot_2  Lot_3  \n",
       "4487       1      0      0  \n",
       "11394      1      0      0  \n",
       "3776       1      0      0  \n",
       "10592      0      1      0  \n",
       "11225      0      0      1  "
      ]
     },
     "execution_count": 68,
     "metadata": {},
     "output_type": "execute_result"
    }
   ],
   "source": [
    "x_train.head()"
   ]
  },
  {
   "cell_type": "code",
   "execution_count": null,
   "metadata": {},
   "outputs": [],
   "source": [
    "df2=pd.get_dummies(columns=cat_cols, data=df2, prefix=cat_cols, prefix_sep=\"_\", drop_first=True)"
   ]
  },
  {
   "cell_type": "code",
   "execution_count": 74,
   "metadata": {},
   "outputs": [
    {
     "data": {
      "text/plain": [
       "Borough                       int64\n",
       "Surroundings                  int16\n",
       "NoOfResidentialUnits          int64\n",
       "NoOfCommercialUnits           int64\n",
       "TotalNoOfUnits                int64\n",
       "LandAreaInSqFt                int64\n",
       "GrossAreaInSqFt               int64\n",
       "TaxClass_AtEvaluationTime     int64\n",
       "BldgClass_AtEvaluationTime     int8\n",
       "bldgclass                      int8\n",
       "age                           int64\n",
       "Lot_1                         uint8\n",
       "Lot_2                         uint8\n",
       "Lot_3                         uint8\n",
       "dtype: object"
      ]
     },
     "execution_count": 74,
     "metadata": {},
     "output_type": "execute_result"
    }
   ],
   "source": [
    "x_val.dtypes"
   ]
  },
  {
   "cell_type": "code",
   "execution_count": 69,
   "metadata": {},
   "outputs": [
    {
     "data": {
      "text/plain": [
       "((13448, 14), (3362, 14), (13448,), (3362,))"
      ]
     },
     "execution_count": 69,
     "metadata": {},
     "output_type": "execute_result"
    }
   ],
   "source": [
    "x_train.shape, x_val.shape, y_train.shape, y_val.shape"
   ]
  },
  {
   "cell_type": "markdown",
   "metadata": {},
   "source": [
    "# linear"
   ]
  },
  {
   "cell_type": "code",
   "execution_count": 77,
   "metadata": {},
   "outputs": [],
   "source": [
    "from sklearn import linear_model\n"
   ]
  },
  {
   "cell_type": "code",
   "execution_count": 78,
   "metadata": {},
   "outputs": [
    {
     "data": {
      "text/plain": [
       "LinearRegression(copy_X=True, fit_intercept=True, n_jobs=None, normalize=False)"
      ]
     },
     "execution_count": 78,
     "metadata": {},
     "output_type": "execute_result"
    }
   ],
   "source": [
    "lm=linear_model.LinearRegression()\n",
    "linearmodel=lm.fit(x_train,y_train)\n",
    "linearmodel"
   ]
  },
  {
   "cell_type": "code",
   "execution_count": 79,
   "metadata": {},
   "outputs": [],
   "source": [
    "train_pred=linearmodel.predict(x_train)"
   ]
  },
  {
   "cell_type": "code",
   "execution_count": 80,
   "metadata": {},
   "outputs": [],
   "source": [
    "val_pred=linearmodel.predict(x_val)"
   ]
  },
  {
   "cell_type": "code",
   "execution_count": 81,
   "metadata": {},
   "outputs": [
    {
     "name": "stdout",
     "output_type": "stream",
     "text": [
      "Linear Regression MSE on train: 628723798758.1862\n",
      "Linear Regression RMSE on train: 792921.0546\n",
      "Linear Regression MSE on val: 853665105258.5520\n",
      "Linear Regression RMSE on val: 923939.9901\n"
     ]
    }
   ],
   "source": [
    "mse_train = mean_squared_error(train_pred,y_train)\n",
    "rmse_train = np.sqrt(mse_train)\n",
    "print(\"Linear Regression MSE on train: %.4f\" %mse_train)\n",
    "print('Linear Regression RMSE on train: %.4f' %rmse_train)\n",
    "\n",
    "mse_val = mean_squared_error(val_pred,y_val)\n",
    "rmse_val = np.sqrt(mse_val)\n",
    "print(\"Linear Regression MSE on val: %.4f\" %mse_val)\n",
    "print('Linear Regression RMSE on val: %.4f' %rmse_val)"
   ]
  },
  {
   "cell_type": "code",
   "execution_count": 82,
   "metadata": {},
   "outputs": [
    {
     "data": {
      "text/plain": [
       "LinearRegression(copy_X=True, fit_intercept=True, n_jobs=None, normalize=False)"
      ]
     },
     "execution_count": 82,
     "metadata": {},
     "output_type": "execute_result"
    }
   ],
   "source": [
    "lm=linear_model.LinearRegression()\n",
    "linearmodel=lm.fit(x_train,np.log(y_train))\n",
    "linearmodel"
   ]
  },
  {
   "cell_type": "code",
   "execution_count": 83,
   "metadata": {},
   "outputs": [],
   "source": [
    "train_pred_log=linearmodel.predict(x_train)"
   ]
  },
  {
   "cell_type": "code",
   "execution_count": 84,
   "metadata": {},
   "outputs": [],
   "source": [
    "val_pred_log=linearmodel.predict(x_val)"
   ]
  },
  {
   "cell_type": "code",
   "execution_count": 85,
   "metadata": {},
   "outputs": [
    {
     "name": "stdout",
     "output_type": "stream",
     "text": [
      "Linear Regression MSE on train: 0.3411\n",
      "Linear Regression RMSE on train: 0.5840\n",
      "Linear Regression MSE on val: 0.5845\n",
      "Linear Regression RMSE on val: 0.7646\n"
     ]
    }
   ],
   "source": [
    "mse_train_log = mean_squared_error(train_pred_log,np.log(y_train))\n",
    "rmse_train_log = np.sqrt(mse_train_log)\n",
    "print(\"Linear Regression MSE on train: %.4f\" %mse_train_log)\n",
    "print('Linear Regression RMSE on train: %.4f' %rmse_train_log)\n",
    "\n",
    "mse_val_log = mean_squared_error(val_pred_log,np.log(y_val))\n",
    "rmse_val_log = np.sqrt(mse_val_log)\n",
    "print(\"Linear Regression MSE on val: %.4f\" %mse_val_log)\n",
    "print('Linear Regression RMSE on val: %.4f' %rmse_val_log)"
   ]
  },
  {
   "cell_type": "code",
   "execution_count": 86,
   "metadata": {},
   "outputs": [
    {
     "name": "stdout",
     "output_type": "stream",
     "text": [
      "0.6743584890297191\n",
      "0.6823536321768751\n"
     ]
    }
   ],
   "source": [
    "MAPE_train=np.mean(np.abs(y_train - train_pred)/(y_train))\n",
    "print(MAPE_train)\n",
    "\n",
    "MAPE_val=np.mean(np.abs(y_val - val_pred)/(y_val))\n",
    "print(MAPE_val)"
   ]
  },
  {
   "cell_type": "code",
   "execution_count": 87,
   "metadata": {},
   "outputs": [
    {
     "name": "stdout",
     "output_type": "stream",
     "text": [
      "0.0320902622630008\n",
      "0.032392333591035646\n"
     ]
    }
   ],
   "source": [
    "MAPE_train_log=np.mean(np.abs(np.log(y_train) - train_pred_log)/np.log(y_train))\n",
    "print(MAPE_train_log)\n",
    "\n",
    "MAPE_val_log=np.mean(np.abs(np.log(y_val) - val_pred_log)/np.log(y_val))\n",
    "print(MAPE_val_log)"
   ]
  },
  {
   "cell_type": "code",
   "execution_count": 88,
   "metadata": {},
   "outputs": [
    {
     "name": "stdout",
     "output_type": "stream",
     "text": [
      "Decision Tree Regressor MSE on train: 1665887248.0102\n",
      "Decision Tree Regressor RMSE on train: 40815.2820\n",
      "Decision Tree Regressor MSE on val: 525979425778.1798\n",
      "Decision Tree Regressor RMSE on val: 725244.3904\n"
     ]
    }
   ],
   "source": [
    "from sklearn.metrics import mean_squared_error\n",
    "from sklearn.tree import export_graphviz,DecisionTreeRegressor\n",
    "DTR = DecisionTreeRegressor(random_state=42)\n",
    "DTR.fit(x_train, y_train)\n",
    "\n",
    "preds_train_DT = DTR.predict(x_train)\n",
    "preds_val_DT = DTR.predict(x_val)\n",
    "\n",
    "DT_mse_train = mean_squared_error(preds_train_DT, y_train)\n",
    "DT_rmse_train = np.sqrt(DT_mse_train)\n",
    "DT_mse_val = mean_squared_error(preds_val_DT, y_val)\n",
    "DT_rmse_val = np.sqrt(DT_mse_val)\n",
    "\n",
    "print(\"Decision Tree Regressor MSE on train: %.4f\" %DT_mse_train)\n",
    "print('Decision Tree Regressor RMSE on train: %.4f' % DT_rmse_train)\n",
    "print(\"Decision Tree Regressor MSE on val: %.4f\" %DT_mse_val)\n",
    "print('Decision Tree Regressor RMSE on val: %.4f' % DT_rmse_val)"
   ]
  },
  {
   "cell_type": "code",
   "execution_count": 91,
   "metadata": {},
   "outputs": [
    {
     "name": "stderr",
     "output_type": "stream",
     "text": [
      "C:\\Users\\SivaKumar\\Anaconda3\\lib\\site-packages\\xgboost\\core.py:587: FutureWarning: Series.base is deprecated and will be removed in a future version\n",
      "  if getattr(data, 'base', None) is not None and \\\n"
     ]
    },
    {
     "name": "stdout",
     "output_type": "stream",
     "text": [
      "[17:44:43] WARNING: C:/Jenkins/workspace/xgboost-win64_release_0.90/src/objective/regression_obj.cu:152: reg:linear is now deprecated in favor of reg:squarederror.\n",
      "XGB Regressor MSE on val: 11805026522.5939\n",
      "XGB Regressor RMSE on val: 108650.9389\n",
      "XGB Regressor MSE on val: 360937498052.0811\n",
      "XGB Regressor RMSE on val: 600780.7404\n"
     ]
    }
   ],
   "source": [
    "from xgboost import XGBRegressor\n",
    "XGB = XGBRegressor(colsample_bytree=0.6, max_depth = 10,n_estimators = 200,random_state=0,alpha=0.1)\n",
    "XGB.fit(x_train, y_train)\n",
    "\n",
    "preds_train_XG = XGB.predict(x_train)\n",
    "preds_val_XG = XGB.predict(x_val)\n",
    "\n",
    "XG_mse_train = mean_squared_error(preds_train_XG, y_train)\n",
    "XG_rmse_train = np.sqrt(XG_mse_train)\n",
    "\n",
    "print(\"XGB Regressor MSE on val: %.4f\" %XG_mse_train)\n",
    "print('XGB Regressor RMSE on val: %.4f' % XG_rmse_train)\n",
    "\n",
    "XG_mse_val = mean_squared_error(preds_val_XG, y_val)\n",
    "XG_rmse_val = np.sqrt(XG_mse_val)\n",
    "\n",
    "print(\"XGB Regressor MSE on val: %.4f\" %XG_mse_val)\n",
    "print('XGB Regressor RMSE on val: %.4f' % XG_rmse_val)"
   ]
  },
  {
   "cell_type": "code",
   "execution_count": null,
   "metadata": {},
   "outputs": [],
   "source": []
  }
 ],
 "metadata": {
  "kernelspec": {
   "display_name": "Python 3",
   "language": "python",
   "name": "python3"
  },
  "language_info": {
   "codemirror_mode": {
    "name": "ipython",
    "version": 3
   },
   "file_extension": ".py",
   "mimetype": "text/x-python",
   "name": "python",
   "nbconvert_exporter": "python",
   "pygments_lexer": "ipython3",
   "version": "3.7.4"
  }
 },
 "nbformat": 4,
 "nbformat_minor": 2
}
